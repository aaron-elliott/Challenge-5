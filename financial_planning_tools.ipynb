{
 "cells": [
  {
   "cell_type": "markdown",
   "metadata": {},
   "source": [
    "# Financial Planning with APIs and Simulations\n",
    "\n",
    "In this Challenge, you’ll create two financial analysis tools by using a single Jupyter notebook:\n",
    "\n",
    "Part 1: A financial planner for emergencies. The members will be able to use this tool to visualize their current savings. The members can then determine if they have enough reserves for an emergency fund.\n",
    "\n",
    "Part 2: A financial planner for retirement. This tool will forecast the performance of their retirement portfolio in 30 years. To do this, the tool will make an Alpaca API call via the Alpaca SDK to get historical price data for use in Monte Carlo simulations.\n",
    "\n",
    "You’ll use the information from the Monte Carlo simulation to answer questions about the portfolio in your Jupyter notebook.\n",
    "\n"
   ]
  },
  {
   "cell_type": "code",
   "execution_count": 167,
   "metadata": {},
   "outputs": [],
   "source": [
    "# Import the required libraries and dependencies\n",
    "import os\n",
    "import requests\n",
    "import json\n",
    "import pandas as pd\n",
    "from dotenv import load_dotenv\n",
    "import alpaca_trade_api as tradeapi\n",
    "from MCForecastTools import MCSimulation\n",
    "import numpy as np\n",
    "import datetime as dt\n",
    "import matplotlib.pyplot as plt\n",
    "import pytz\n",
    "\n",
    "%matplotlib inline"
   ]
  },
  {
   "cell_type": "code",
   "execution_count": 168,
   "metadata": {},
   "outputs": [
    {
     "name": "stdout",
     "output_type": "stream",
     "text": [
      "Requirement already satisfied: python-dotenv in c:\\users\\aaron\\anaconda3\\lib\\site-packages (0.19.1)\n"
     ]
    },
    {
     "name": "stderr",
     "output_type": "stream",
     "text": [
      "WARNING: You are using pip version 21.2.4; however, version 21.3.1 is available.\n",
      "You should consider upgrading via the 'c:\\users\\aaron\\anaconda3\\python.exe -m pip install --upgrade pip' command.\n"
     ]
    }
   ],
   "source": [
    "!pip install python-dotenv"
   ]
  },
  {
   "cell_type": "code",
   "execution_count": 169,
   "metadata": {},
   "outputs": [
    {
     "name": "stdout",
     "output_type": "stream",
     "text": [
      "Requirement already satisfied: alpaca-trade-api in c:\\users\\aaron\\anaconda3\\lib\\site-packages (1.4.0)\n",
      "Requirement already satisfied: websockets<10,>=8.0 in c:\\users\\aaron\\anaconda3\\lib\\site-packages (from alpaca-trade-api) (9.1)\n",
      "Requirement already satisfied: pandas>=0.18.1 in c:\\users\\aaron\\anaconda3\\lib\\site-packages (from alpaca-trade-api) (1.2.4)\n",
      "Requirement already satisfied: aiohttp==3.7.4 in c:\\users\\aaron\\anaconda3\\lib\\site-packages (from alpaca-trade-api) (3.7.4)\n",
      "Requirement already satisfied: PyYAML==5.4.1 in c:\\users\\aaron\\anaconda3\\lib\\site-packages (from alpaca-trade-api) (5.4.1)\n",
      "Requirement already satisfied: msgpack==1.0.2 in c:\\users\\aaron\\anaconda3\\lib\\site-packages (from alpaca-trade-api) (1.0.2)\n",
      "Requirement already satisfied: websocket-client<2,>=0.56.0 in c:\\users\\aaron\\anaconda3\\lib\\site-packages (from alpaca-trade-api) (1.2.1)\n",
      "Requirement already satisfied: requests<3,>2 in c:\\users\\aaron\\anaconda3\\lib\\site-packages (from alpaca-trade-api) (2.25.1)\n",
      "Requirement already satisfied: numpy>=1.11.1 in c:\\users\\aaron\\anaconda3\\lib\\site-packages (from alpaca-trade-api) (1.20.1)\n",
      "Requirement already satisfied: urllib3<2,>1.24 in c:\\users\\aaron\\anaconda3\\lib\\site-packages (from alpaca-trade-api) (1.26.4)\n",
      "Requirement already satisfied: chardet<4.0,>=2.0 in c:\\users\\aaron\\anaconda3\\lib\\site-packages (from aiohttp==3.7.4->alpaca-trade-api) (3.0.4)\n",
      "Requirement already satisfied: typing-extensions>=3.6.5 in c:\\users\\aaron\\anaconda3\\lib\\site-packages (from aiohttp==3.7.4->alpaca-trade-api) (3.7.4.3)\n",
      "Requirement already satisfied: attrs>=17.3.0 in c:\\users\\aaron\\anaconda3\\lib\\site-packages (from aiohttp==3.7.4->alpaca-trade-api) (20.3.0)\n",
      "Requirement already satisfied: yarl<2.0,>=1.0 in c:\\users\\aaron\\anaconda3\\lib\\site-packages (from aiohttp==3.7.4->alpaca-trade-api) (1.7.0)\n",
      "Requirement already satisfied: async-timeout<4.0,>=3.0 in c:\\users\\aaron\\anaconda3\\lib\\site-packages (from aiohttp==3.7.4->alpaca-trade-api) (3.0.1)\n",
      "Requirement already satisfied: multidict<7.0,>=4.5 in c:\\users\\aaron\\anaconda3\\lib\\site-packages (from aiohttp==3.7.4->alpaca-trade-api) (5.2.0)\n",
      "Requirement already satisfied: pytz>=2017.3 in c:\\users\\aaron\\anaconda3\\lib\\site-packages (from pandas>=0.18.1->alpaca-trade-api) (2021.1)\n",
      "Requirement already satisfied: python-dateutil>=2.7.3 in c:\\users\\aaron\\anaconda3\\lib\\site-packages (from pandas>=0.18.1->alpaca-trade-api) (2.8.1)\n",
      "Requirement already satisfied: six>=1.5 in c:\\users\\aaron\\anaconda3\\lib\\site-packages (from python-dateutil>=2.7.3->pandas>=0.18.1->alpaca-trade-api) (1.15.0)\n",
      "Requirement already satisfied: idna<3,>=2.5 in c:\\users\\aaron\\anaconda3\\lib\\site-packages (from requests<3,>2->alpaca-trade-api) (2.10)\n",
      "Requirement already satisfied: certifi>=2017.4.17 in c:\\users\\aaron\\anaconda3\\lib\\site-packages (from requests<3,>2->alpaca-trade-api) (2020.12.5)\n"
     ]
    },
    {
     "name": "stderr",
     "output_type": "stream",
     "text": [
      "WARNING: You are using pip version 21.2.4; however, version 21.3.1 is available.\n",
      "You should consider upgrading via the 'c:\\users\\aaron\\anaconda3\\python.exe -m pip install --upgrade pip' command.\n"
     ]
    }
   ],
   "source": [
    "!pip install alpaca-trade-api"
   ]
  },
  {
   "cell_type": "code",
   "execution_count": 116,
   "metadata": {},
   "outputs": [
    {
     "data": {
      "text/plain": [
       "True"
      ]
     },
     "execution_count": 116,
     "metadata": {},
     "output_type": "execute_result"
    }
   ],
   "source": [
    "# Load the environment variables from the .env file\n",
    "#by calling the load_dotenv function\n",
    "\n",
    "load_dotenv()"
   ]
  },
  {
   "cell_type": "markdown",
   "metadata": {},
   "source": [
    "## Part 1: Create a Financial Planner for Emergencies"
   ]
  },
  {
   "cell_type": "markdown",
   "metadata": {},
   "source": [
    "### Evaluate the Cryptocurrency Wallet by Using the Requests Library\n",
    "\n",
    "In this section, you’ll determine the current value of a member’s cryptocurrency wallet. You’ll collect the current prices for the Bitcoin and Ethereum cryptocurrencies by using the Python Requests library. For the prototype, you’ll assume that the member holds the 1.2 Bitcoins (BTC) and 5.3 Ethereum coins (ETH). To do all this, complete the following steps:\n",
    "\n",
    "1. Create a variable named `monthly_income`, and set its value to `12000`.\n",
    "\n",
    "2. Use the Requests library to get the current price (in US dollars) of Bitcoin (BTC) and Ethereum (ETH) by using the API endpoints that the starter code supplies.\n",
    "\n",
    "3. Navigate the JSON response object to access the current price of each coin, and store each in a variable.\n",
    "\n",
    "    > **Hint** Note the specific identifier for each cryptocurrency in the API JSON response. The Bitcoin identifier is `1`, and the Ethereum identifier is `1027`.\n",
    "\n",
    "4. Calculate the value, in US dollars, of the current amount of each cryptocurrency and of the entire cryptocurrency wallet.\n",
    "\n"
   ]
  },
  {
   "cell_type": "code",
   "execution_count": 117,
   "metadata": {},
   "outputs": [],
   "source": [
    "# The current number of coins for each cryptocurrency asset held in the portfolio.\n",
    "btc_coins = 1.2\n",
    "eth_coins = 5.3"
   ]
  },
  {
   "cell_type": "markdown",
   "metadata": {},
   "source": [
    "#### Step 1: Create a variable named `monthly_income`, and set its value to `12000`."
   ]
  },
  {
   "cell_type": "code",
   "execution_count": 118,
   "metadata": {},
   "outputs": [],
   "source": [
    "# The monthly amount for the member's household income\n",
    "\n",
    "monthly_income = 12000\n"
   ]
  },
  {
   "cell_type": "markdown",
   "metadata": {},
   "source": [
    "#### Review the endpoint URLs for the API calls to Free Crypto API in order to get the current pricing information for both BTC and ETH."
   ]
  },
  {
   "cell_type": "code",
   "execution_count": 119,
   "metadata": {},
   "outputs": [],
   "source": [
    "# The Free Crypto API Call endpoint URLs for the held cryptocurrency assets\n",
    "\n",
    "btc_url = \"https://api.alternative.me/v2/ticker/Bitcoin/?convert=USD\"\n",
    "eth_url = \"https://api.alternative.me/v2/ticker/Ethereum/?convert=USD\""
   ]
  },
  {
   "cell_type": "markdown",
   "metadata": {},
   "source": [
    "#### Step 2. Use the Requests library to get the current price (in US dollars) of Bitcoin (BTC) and Ethereum (ETH) by using the API endpoints that the starter code supplied."
   ]
  },
  {
   "cell_type": "code",
   "execution_count": 120,
   "metadata": {},
   "outputs": [
    {
     "name": "stdout",
     "output_type": "stream",
     "text": [
      "{\n",
      "    \"data\": {\n",
      "        \"1\": {\n",
      "            \"circulating_supply\": 18853381,\n",
      "            \"id\": 1,\n",
      "            \"last_updated\": 1635129505,\n",
      "            \"max_supply\": 21000000,\n",
      "            \"name\": \"Bitcoin\",\n",
      "            \"quotes\": {\n",
      "                \"USD\": {\n",
      "                    \"market_cap\": 1168082640560,\n",
      "                    \"percent_change_1h\": -0.197564567867383,\n",
      "                    \"percent_change_24h\": 1.2531720049037,\n",
      "                    \"percent_change_7d\": 0.630190432145775,\n",
      "                    \"percentage_change_1h\": -0.197564567867383,\n",
      "                    \"percentage_change_24h\": 1.2531720049037,\n",
      "                    \"percentage_change_7d\": 0.630190432145775,\n",
      "                    \"price\": 61972.0,\n",
      "                    \"volume_24h\": 31057994866\n",
      "                }\n",
      "            },\n",
      "            \"rank\": 1,\n",
      "            \"symbol\": \"BTC\",\n",
      "            \"total_supply\": 18853381,\n",
      "            \"website_slug\": \"bitcoin\"\n",
      "        }\n",
      "    },\n",
      "    \"metadata\": {\n",
      "        \"error\": null,\n",
      "        \"num_cryptocurrencies\": 3105,\n",
      "        \"timestamp\": 1635129505\n",
      "    }\n",
      "}\n"
     ]
    }
   ],
   "source": [
    "# Using the Python requests library, make an API call to access the current price of BTC\n",
    "\n",
    "btc_response = requests.get(btc_url).json()\n",
    "\n",
    "\n",
    "# Use the json.dumps function to review the response data from the API call\n",
    "# Use the indent and sort_keys parameters to make the response object readable\n",
    "\n",
    "print(json.dumps(btc_response, indent=4, sort_keys=True))\n"
   ]
  },
  {
   "cell_type": "code",
   "execution_count": 121,
   "metadata": {},
   "outputs": [
    {
     "data": {
      "text/plain": [
       "{'data': {'1027': {'id': 1027,\n",
       "   'name': 'Ethereum',\n",
       "   'symbol': 'ETH',\n",
       "   'website_slug': 'ethereum',\n",
       "   'rank': 2,\n",
       "   'circulating_supply': 118064999,\n",
       "   'total_supply': 118064999,\n",
       "   'max_supply': 0,\n",
       "   'quotes': {'USD': {'price': 4116.6,\n",
       "     'volume_24h': 16680262167,\n",
       "     'market_cap': 487434683374,\n",
       "     'percentage_change_1h': -0.516398455648235,\n",
       "     'percentage_change_24h': -0.417234098204833,\n",
       "     'percentage_change_7d': 6.8074585804429,\n",
       "     'percent_change_1h': -0.516398455648235,\n",
       "     'percent_change_24h': -0.417234098204833,\n",
       "     'percent_change_7d': 6.8074585804429}},\n",
       "   'last_updated': 1635129478}},\n",
       " 'metadata': {'timestamp': 1635129478,\n",
       "  'num_cryptocurrencies': 3105,\n",
       "  'error': None}}"
      ]
     },
     "execution_count": 121,
     "metadata": {},
     "output_type": "execute_result"
    }
   ],
   "source": [
    "# Using the Python requests library, make an API call to access the current price ETH\n",
    "eth_response = requests.get(eth_url).json()\n",
    "\n",
    "# Use the json.dumps function to review the response data from the API call\n",
    "# Use the indent and sort_keys parameters to make the response object readable\n",
    "\n",
    "requests.get(eth_url).json()\n"
   ]
  },
  {
   "cell_type": "markdown",
   "metadata": {},
   "source": [
    "#### Step 3: Navigate the JSON response object to access the current price of each coin, and store each in a variable."
   ]
  },
  {
   "cell_type": "code",
   "execution_count": 122,
   "metadata": {},
   "outputs": [
    {
     "name": "stdout",
     "output_type": "stream",
     "text": [
      "The price of Bitcoin is $ 61972.0\n"
     ]
    }
   ],
   "source": [
    "# Navigate the BTC response object to access the current price of BTC\n",
    "\n",
    "btc_price = btc_response[\"data\"][\"1\"][\"quotes\"][\"USD\"][\"price\"]\n",
    "\n",
    "# Print the current price of BTC\n",
    "\n",
    "print(f\"The price of Bitcoin is $ {btc_price}\")"
   ]
  },
  {
   "cell_type": "code",
   "execution_count": 123,
   "metadata": {},
   "outputs": [
    {
     "name": "stdout",
     "output_type": "stream",
     "text": [
      "The price of Ethereum is $ 4116.6\n"
     ]
    }
   ],
   "source": [
    "# Navigate the BTC response object to access the current price of ETH\n",
    "eth_price = eth_response[\"data\"][\"1027\"][\"quotes\"][\"USD\"][\"price\"]\n",
    "\n",
    "# Print the current price of ETH\n",
    "\n",
    "print(f\"The price of Ethereum is $ {eth_price}\")\n"
   ]
  },
  {
   "cell_type": "markdown",
   "metadata": {},
   "source": [
    "### Step 4: Calculate the value, in US dollars, of the current amount of each cryptocurrency and of the entire cryptocurrency wallet."
   ]
  },
  {
   "cell_type": "code",
   "execution_count": 124,
   "metadata": {},
   "outputs": [
    {
     "name": "stdout",
     "output_type": "stream",
     "text": [
      "BTC holdings: $74366.4\n"
     ]
    }
   ],
   "source": [
    "# Compute the current value of the BTC holding \n",
    "\n",
    "btc_value = btc_coins * btc_price\n",
    "\n",
    "# Print current value of your holding in BTC\n",
    "\n",
    "print(f\"BTC holdings: ${btc_value}\")\n"
   ]
  },
  {
   "cell_type": "code",
   "execution_count": 125,
   "metadata": {},
   "outputs": [
    {
     "name": "stdout",
     "output_type": "stream",
     "text": [
      "Eth holdings: $21817.98\n"
     ]
    }
   ],
   "source": [
    "# Compute the current value of the ETH holding \n",
    "\n",
    "eth_value = eth_coins * eth_price\n",
    "\n",
    "# Print current value of your holding in ETH\n",
    "\n",
    "print(f\"Eth holdings: ${eth_value}\")\n"
   ]
  },
  {
   "cell_type": "code",
   "execution_count": 126,
   "metadata": {},
   "outputs": [
    {
     "name": "stdout",
     "output_type": "stream",
     "text": [
      "Crypto currency wallet balance: $96184.37999999999\n"
     ]
    }
   ],
   "source": [
    "# Compute the total value of the cryptocurrency wallet\n",
    "# Add the value of the BTC holding to the value of the ETH holding\n",
    "\n",
    "total_crypto_wallet = btc_value + eth_value\n",
    "\n",
    "# Print current cryptocurrency wallet balance\n",
    "\n",
    "print(f\"Crypto currency wallet balance: ${total_crypto_wallet}\")\n"
   ]
  },
  {
   "cell_type": "markdown",
   "metadata": {},
   "source": [
    "### Evaluate the Stock and Bond Holdings by Using the Alpaca SDK\n",
    "\n",
    "In this section, you’ll determine the current value of a member’s stock and bond holdings. You’ll make an API call to Alpaca via the Alpaca SDK to get the current closing prices of the SPDR S&P 500 ETF Trust (ticker: SPY) and of the iShares Core US Aggregate Bond ETF (ticker: AGG). For the prototype, assume that the member holds 110 shares of SPY, which represents the stock portion of their portfolio, and 200 shares of AGG, which represents the bond portion. To do all this, complete the following steps:\n",
    "\n",
    "1. In the `Starter_Code` folder, create an environment file (`.env`) to store the values of your Alpaca API key and Alpaca secret key.\n",
    "\n",
    "2. Set the variables for the Alpaca API and secret keys. Using the Alpaca SDK, create the Alpaca `tradeapi.REST` object. In this object, include the parameters for the Alpaca API key, the secret key, and the version number.\n",
    "\n",
    "3. Set the following parameters for the Alpaca API call:\n",
    "\n",
    "    - `tickers`: Use the tickers for the member’s stock and bond holdings.\n",
    "\n",
    "    - `timeframe`: Use a time frame of one day.\n",
    "\n",
    "    - `start_date` and `end_date`: Use the same date for these parameters, and format them with the date of the previous weekday (or `2020-08-07`). This is because you want the one closing price for the most-recent trading day.\n",
    "\n",
    "4. Get the current closing prices for `SPY` and `AGG` by using the Alpaca `get_barset` function. Format the response as a Pandas DataFrame by including the `df` property at the end of the `get_barset` function.\n",
    "\n",
    "5. Navigating the Alpaca response DataFrame, select the `SPY` and `AGG` closing prices, and store them as variables.\n",
    "\n",
    "6. Calculate the value, in US dollars, of the current amount of shares in each of the stock and bond portions of the portfolio, and print the results.\n"
   ]
  },
  {
   "cell_type": "markdown",
   "metadata": {},
   "source": [
    "#### Review the total number of shares held in both (SPY) and (AGG)."
   ]
  },
  {
   "cell_type": "code",
   "execution_count": 127,
   "metadata": {},
   "outputs": [],
   "source": [
    "# Current amount of shares held in both the stock (SPY) and bond (AGG) portion of the portfolio.\n",
    "\n",
    "spy_shares = 110\n",
    "\n",
    "agg_shares = 200\n"
   ]
  },
  {
   "cell_type": "markdown",
   "metadata": {},
   "source": [
    "#### Step 1: In the `Starter_Code` folder, create an environment file (`.env`) to store the values of your Alpaca API key and Alpaca secret key."
   ]
  },
  {
   "cell_type": "markdown",
   "metadata": {},
   "source": [
    "#### Step 2: Set the variables for the Alpaca API and secret keys. Using the Alpaca SDK, create the Alpaca `tradeapi.REST` object. In this object, include the parameters for the Alpaca API key, the secret key, and the version number."
   ]
  },
  {
   "cell_type": "code",
   "execution_count": 128,
   "metadata": {},
   "outputs": [
    {
     "name": "stdout",
     "output_type": "stream",
     "text": [
      "Alpaca Key type: PKV1R468Z4C5DZVH5U16\n",
      "Alpaca Secret Key type: hFJQF8ba2nSFB4bfr7a0BWeMtkPBgKJc4jnJfuIp\n"
     ]
    }
   ],
   "source": [
    "# Set the variables for the Alpaca API and secret keys\n",
    "\n",
    "alpaca_api_key = os.getenv(\"ALPACA_API_KEY\")\n",
    "alpaca_secret_key = os.getenv(\"ALPACA_SECRET_KEY\")\n",
    "\n",
    "print(f\"Alpaca Key type: {(alpaca_api_key)}\")\n",
    "print(f\"Alpaca Secret Key type: {(alpaca_secret_key)}\")\n",
    "\n",
    "# Create the Alpaca tradeapi.REST object\n",
    "\n",
    "alpaca = tradeapi.REST(\n",
    "    alpaca_api_key,\n",
    "    alpaca_secret_key,\n",
    "    api_version=\"v2\")\n"
   ]
  },
  {
   "cell_type": "code",
   "execution_count": 129,
   "metadata": {},
   "outputs": [
    {
     "data": {
      "text/plain": [
       "<alpaca_trade_api.rest.REST at 0x10d7331ed60>"
      ]
     },
     "execution_count": 129,
     "metadata": {},
     "output_type": "execute_result"
    }
   ],
   "source": [
    "alpaca"
   ]
  },
  {
   "cell_type": "markdown",
   "metadata": {},
   "source": [
    "#### Step 3: Set the following parameters for the Alpaca API call:\n",
    "\n",
    "- `tickers`: Use the tickers for the member’s stock and bond holdings.\n",
    "\n",
    "- `timeframe`: Use a time frame of one day.\n",
    "\n",
    "- `start_date` and `end_date`: Use the same date for these parameters, and format them with the date of the previous weekday (or `2020-08-07`). This is because you want the one closing price for the most-recent trading day.\n"
   ]
  },
  {
   "cell_type": "code",
   "execution_count": 130,
   "metadata": {},
   "outputs": [],
   "source": [
    "# Set the tickers for both the bond and stock portion of the portfolio\n",
    "\n",
    "tickers = [\"SPY\", \"AGG\"]\n",
    "\n",
    "# Set timeframe to 1D \n",
    "\n",
    "timeframe = \"1D\"\n",
    "\n",
    "# Format current date as ISO format\n",
    "# Set both the start and end date at the date of your prior weekday \n",
    "# This will give you the closing price of the previous trading day\n",
    "# Alternatively you can use a start and end date of 2020-08-07\n",
    "\n",
    "start = pd.Timestamp(\"2020-08-07\", tz=\"America/New_York\").isoformat()\n",
    "end = pd.Timestamp(\"2021-08-07\", tz=\"America/New_York\").isoformat()\n"
   ]
  },
  {
   "cell_type": "markdown",
   "metadata": {},
   "source": [
    "#### Step 4: Get the current closing prices for `SPY` and `AGG` by using the Alpaca `get_barset` function. Format the response as a Pandas DataFrame by including the `df` property at the end of the `get_barset` function."
   ]
  },
  {
   "cell_type": "code",
   "execution_count": 131,
   "metadata": {},
   "outputs": [],
   "source": [
    "limit_rows = 1000"
   ]
  },
  {
   "cell_type": "code",
   "execution_count": 132,
   "metadata": {},
   "outputs": [
    {
     "data": {
      "text/html": [
       "<div>\n",
       "<style scoped>\n",
       "    .dataframe tbody tr th:only-of-type {\n",
       "        vertical-align: middle;\n",
       "    }\n",
       "\n",
       "    .dataframe tbody tr th {\n",
       "        vertical-align: top;\n",
       "    }\n",
       "\n",
       "    .dataframe thead tr th {\n",
       "        text-align: left;\n",
       "    }\n",
       "\n",
       "    .dataframe thead tr:last-of-type th {\n",
       "        text-align: right;\n",
       "    }\n",
       "</style>\n",
       "<table border=\"1\" class=\"dataframe\">\n",
       "  <thead>\n",
       "    <tr>\n",
       "      <th></th>\n",
       "      <th colspan=\"5\" halign=\"left\">AGG</th>\n",
       "      <th colspan=\"5\" halign=\"left\">SPY</th>\n",
       "    </tr>\n",
       "    <tr>\n",
       "      <th></th>\n",
       "      <th>open</th>\n",
       "      <th>high</th>\n",
       "      <th>low</th>\n",
       "      <th>close</th>\n",
       "      <th>volume</th>\n",
       "      <th>open</th>\n",
       "      <th>high</th>\n",
       "      <th>low</th>\n",
       "      <th>close</th>\n",
       "      <th>volume</th>\n",
       "    </tr>\n",
       "    <tr>\n",
       "      <th>time</th>\n",
       "      <th></th>\n",
       "      <th></th>\n",
       "      <th></th>\n",
       "      <th></th>\n",
       "      <th></th>\n",
       "      <th></th>\n",
       "      <th></th>\n",
       "      <th></th>\n",
       "      <th></th>\n",
       "      <th></th>\n",
       "    </tr>\n",
       "  </thead>\n",
       "  <tbody>\n",
       "    <tr>\n",
       "      <th>2020-08-07 00:00:00-04:00</th>\n",
       "      <td>119.66</td>\n",
       "      <td>119.730</td>\n",
       "      <td>119.395</td>\n",
       "      <td>119.445</td>\n",
       "      <td>8830420</td>\n",
       "      <td>333.28</td>\n",
       "      <td>334.8800</td>\n",
       "      <td>332.3000</td>\n",
       "      <td>334.55</td>\n",
       "      <td>98710236</td>\n",
       "    </tr>\n",
       "    <tr>\n",
       "      <th>2020-08-10 00:00:00-04:00</th>\n",
       "      <td>119.62</td>\n",
       "      <td>119.635</td>\n",
       "      <td>119.280</td>\n",
       "      <td>119.330</td>\n",
       "      <td>8754150</td>\n",
       "      <td>335.06</td>\n",
       "      <td>335.7700</td>\n",
       "      <td>332.9550</td>\n",
       "      <td>335.55</td>\n",
       "      <td>76546162</td>\n",
       "    </tr>\n",
       "    <tr>\n",
       "      <th>2020-08-11 00:00:00-04:00</th>\n",
       "      <td>119.11</td>\n",
       "      <td>119.210</td>\n",
       "      <td>118.840</td>\n",
       "      <td>118.985</td>\n",
       "      <td>10883100</td>\n",
       "      <td>336.85</td>\n",
       "      <td>337.5400</td>\n",
       "      <td>332.0100</td>\n",
       "      <td>332.82</td>\n",
       "      <td>117799447</td>\n",
       "    </tr>\n",
       "    <tr>\n",
       "      <th>2020-08-12 00:00:00-04:00</th>\n",
       "      <td>118.73</td>\n",
       "      <td>118.890</td>\n",
       "      <td>118.650</td>\n",
       "      <td>118.760</td>\n",
       "      <td>9097248</td>\n",
       "      <td>335.44</td>\n",
       "      <td>338.2800</td>\n",
       "      <td>332.8377</td>\n",
       "      <td>337.42</td>\n",
       "      <td>91230107</td>\n",
       "    </tr>\n",
       "    <tr>\n",
       "      <th>2020-08-13 00:00:00-04:00</th>\n",
       "      <td>118.78</td>\n",
       "      <td>118.780</td>\n",
       "      <td>118.240</td>\n",
       "      <td>118.320</td>\n",
       "      <td>5141695</td>\n",
       "      <td>336.61</td>\n",
       "      <td>338.2514</td>\n",
       "      <td>335.8300</td>\n",
       "      <td>336.86</td>\n",
       "      <td>36982397</td>\n",
       "    </tr>\n",
       "  </tbody>\n",
       "</table>\n",
       "</div>"
      ],
      "text/plain": [
       "                              AGG                                       \\\n",
       "                             open     high      low    close    volume   \n",
       "time                                                                     \n",
       "2020-08-07 00:00:00-04:00  119.66  119.730  119.395  119.445   8830420   \n",
       "2020-08-10 00:00:00-04:00  119.62  119.635  119.280  119.330   8754150   \n",
       "2020-08-11 00:00:00-04:00  119.11  119.210  118.840  118.985  10883100   \n",
       "2020-08-12 00:00:00-04:00  118.73  118.890  118.650  118.760   9097248   \n",
       "2020-08-13 00:00:00-04:00  118.78  118.780  118.240  118.320   5141695   \n",
       "\n",
       "                              SPY                                         \n",
       "                             open      high       low   close     volume  \n",
       "time                                                                      \n",
       "2020-08-07 00:00:00-04:00  333.28  334.8800  332.3000  334.55   98710236  \n",
       "2020-08-10 00:00:00-04:00  335.06  335.7700  332.9550  335.55   76546162  \n",
       "2020-08-11 00:00:00-04:00  336.85  337.5400  332.0100  332.82  117799447  \n",
       "2020-08-12 00:00:00-04:00  335.44  338.2800  332.8377  337.42   91230107  \n",
       "2020-08-13 00:00:00-04:00  336.61  338.2514  335.8300  336.86   36982397  "
      ]
     },
     "execution_count": 132,
     "metadata": {},
     "output_type": "execute_result"
    }
   ],
   "source": [
    "# Use the Alpaca get_barset function to get current closing prices the portfolio\n",
    "# Be sure to set the `df` property after the function to format the response object as a DataFrame\n",
    "\n",
    "portfolio_df = alpaca.get_barset(\n",
    "    tickers,\n",
    "    timeframe,\n",
    "    start = start,\n",
    "    end = end,\n",
    "    limit = limit_rows\n",
    ").df\n",
    "\n",
    "# Review the first 5 rows of the Alpaca DataFrame\n",
    "\n",
    "portfolio_df.head(5)"
   ]
  },
  {
   "cell_type": "markdown",
   "metadata": {},
   "source": [
    "#### Step 5: Navigating the Alpaca response DataFrame, select the `SPY` and `AGG` closing prices, and store them as variables."
   ]
  },
  {
   "cell_type": "code",
   "execution_count": 133,
   "metadata": {},
   "outputs": [
    {
     "data": {
      "text/plain": [
       "alpaca_trade_api.entity.BarSet"
      ]
     },
     "execution_count": 133,
     "metadata": {},
     "output_type": "execute_result"
    }
   ],
   "source": [
    "portfolio_df_1 = alpaca.get_barset(\n",
    "    tickers,\n",
    "    timeframe,\n",
    "    start = start,\n",
    "    end = end,\n",
    "    limit = limit_rows)\n",
    "type(portfolio_df_1)"
   ]
  },
  {
   "cell_type": "code",
   "execution_count": 134,
   "metadata": {},
   "outputs": [
    {
     "data": {
      "text/plain": [
       "Bar({   'c': 115.79,\n",
       "    'h': 116.02,\n",
       "    'l': 115.78,\n",
       "    'o': 115.93,\n",
       "    't': 1628222400,\n",
       "    'v': 3125122})"
      ]
     },
     "execution_count": 134,
     "metadata": {},
     "output_type": "execute_result"
    }
   ],
   "source": [
    "portfolio_df_1[\"AGG\"][-1]\n"
   ]
  },
  {
   "cell_type": "code",
   "execution_count": 135,
   "metadata": {},
   "outputs": [
    {
     "data": {
      "text/plain": [
       "MultiIndex([('AGG',   'open'),\n",
       "            ('AGG',   'high'),\n",
       "            ('AGG',    'low'),\n",
       "            ('AGG',  'close'),\n",
       "            ('AGG', 'volume'),\n",
       "            ('SPY',   'open'),\n",
       "            ('SPY',   'high'),\n",
       "            ('SPY',    'low'),\n",
       "            ('SPY',  'close'),\n",
       "            ('SPY', 'volume')],\n",
       "           )"
      ]
     },
     "execution_count": 135,
     "metadata": {},
     "output_type": "execute_result"
    }
   ],
   "source": [
    "portfolio_df.columns"
   ]
  },
  {
   "cell_type": "code",
   "execution_count": 136,
   "metadata": {},
   "outputs": [
    {
     "data": {
      "text/plain": [
       "115.79"
      ]
     },
     "execution_count": 136,
     "metadata": {},
     "output_type": "execute_result"
    }
   ],
   "source": [
    "portfolio_df.loc[:,\"AGG\"][\"close\"][-1]"
   ]
  },
  {
   "cell_type": "code",
   "execution_count": 137,
   "metadata": {},
   "outputs": [
    {
     "name": "stdout",
     "output_type": "stream",
     "text": [
      "The AGG closing price is $115.79\n"
     ]
    }
   ],
   "source": [
    "# Access the closing price for AGG from the Alpaca DataFrame\n",
    "# Converting the value to a floating point number\n",
    "\n",
    "agg_close_price = portfolio_df.loc[:,\"AGG\"][\"close\"][-1]\n",
    "\n",
    "# Print the AGG closing price\n",
    "\n",
    "print(f\"The AGG closing price is ${agg_close_price}\")\n"
   ]
  },
  {
   "cell_type": "code",
   "execution_count": 138,
   "metadata": {},
   "outputs": [
    {
     "name": "stdout",
     "output_type": "stream",
     "text": [
      "The SPY closing price is $442.52\n"
     ]
    }
   ],
   "source": [
    "# Access the closing price for SPY from the Alpaca DataFrame\n",
    "# Converting the value to a floating point number\n",
    "\n",
    "spy_close_price = portfolio_df.loc[:,\"SPY\"][\"close\"][-1]\n",
    "\n",
    "# Print the SPY closing price\n",
    "\n",
    "print(f\"The SPY closing price is ${spy_close_price}\")\n"
   ]
  },
  {
   "cell_type": "markdown",
   "metadata": {},
   "source": [
    "#### Step 6: Calculate the value, in US dollars, of the current amount of shares in each of the stock and bond portions of the portfolio, and print the results."
   ]
  },
  {
   "cell_type": "code",
   "execution_count": 139,
   "metadata": {},
   "outputs": [
    {
     "name": "stdout",
     "output_type": "stream",
     "text": [
      "The current bond portfolio value is: $23158.0\n"
     ]
    }
   ],
   "source": [
    "# Calculate the current value of the bond portion of the portfolio\n",
    "\n",
    "agg_value = agg_close_price * agg_shares\n",
    "\n",
    "# Print the current value of the bond portfolio\n",
    "\n",
    "print(f\"The current bond portfolio value is: ${agg_value}\")\n"
   ]
  },
  {
   "cell_type": "code",
   "execution_count": 140,
   "metadata": {},
   "outputs": [
    {
     "name": "stdout",
     "output_type": "stream",
     "text": [
      "The current stock portfolio value is: $48677.2\n"
     ]
    }
   ],
   "source": [
    "# Calculate the current value of the stock portion of the portfolio\n",
    "\n",
    "spy_value = spy_close_price * spy_shares\n",
    "\n",
    "# Print the current value of the stock portfolio\n",
    "\n",
    "print(f\"The current stock portfolio value is: ${spy_value}\")\n"
   ]
  },
  {
   "cell_type": "code",
   "execution_count": 141,
   "metadata": {},
   "outputs": [
    {
     "name": "stdout",
     "output_type": "stream",
     "text": [
      "The total stock & bond value is: $71835.2\n"
     ]
    }
   ],
   "source": [
    "# Calculate the total value of the stock and bond portion of the portfolio\n",
    "\n",
    "total_stocks_bonds = spy_value + agg_value\n",
    "\n",
    "# Print the current balance of the stock and bond portion of the portfolio\n",
    "\n",
    "print(f\"The total stock & bond value is: ${total_stocks_bonds}\")\n"
   ]
  },
  {
   "cell_type": "code",
   "execution_count": 142,
   "metadata": {},
   "outputs": [
    {
     "name": "stdout",
     "output_type": "stream",
     "text": [
      "The total portfolio value is: $168019.58\n"
     ]
    }
   ],
   "source": [
    "# Calculate the total value of the member's entire savings portfolio\n",
    "# Add the value of the cryptocurrency walled to the value of the total stocks and bonds\n",
    "\n",
    "total_portfolio = total_stocks_bonds + total_crypto_wallet\n",
    "\n",
    "# Print current cryptocurrency wallet balance\n",
    "\n",
    "print(f\"The total portfolio value is: ${total_portfolio}\")\n"
   ]
  },
  {
   "cell_type": "markdown",
   "metadata": {},
   "source": [
    "### Evaluate the Emergency Fund\n",
    "\n",
    "In this section, you’ll use the valuations for the cryptocurrency wallet and for the stock and bond portions of the portfolio to determine if the credit union member has enough savings to build an emergency fund into their financial plan. To do this, complete the following steps:\n",
    "\n",
    "1. Create a Python list named `savings_data` that has two elements. The first element contains the total value of the cryptocurrency wallet. The second element contains the total value of the stock and bond portions of the portfolio.\n",
    "\n",
    "2. Use the `savings_data` list to create a Pandas DataFrame named `savings_df`, and then display this DataFrame. The function to create the DataFrame should take the following three parameters:\n",
    "\n",
    "    - `savings_data`: Use the list that you just created.\n",
    "\n",
    "    - `columns`: Set this parameter equal to a Python list with a single value called `amount`.\n",
    "\n",
    "    - `index`: Set this parameter equal to a Python list with the values of `crypto` and `stock/bond`.\n",
    "\n",
    "3. Use the `savings_df` DataFrame to plot a pie chart that visualizes the composition of the member’s portfolio. The y-axis of the pie chart uses `amount`. Be sure to add a title.\n",
    "\n",
    "4. Using Python, determine if the current portfolio has enough to create an emergency fund as part of the member’s financial plan. Ideally, an emergency fund should equal to three times the member’s monthly income. To do this, implement the following steps:\n",
    "\n",
    "    1. Create a variable named `emergency_fund_value`, and set it equal to three times the value of the member’s `monthly_income` of $12000. (You set this earlier in Part 1).\n",
    "\n",
    "    2. Create a series of three if statements to determine if the member’s total portfolio is large enough to fund the emergency portfolio:\n",
    "\n",
    "        1. If the total portfolio value is greater than the emergency fund value, display a message congratulating the member for having enough money in this fund.\n",
    "\n",
    "        2. Else if the total portfolio value is equal to the emergency fund value, display a message congratulating the member on reaching this important financial goal.\n",
    "\n",
    "        3. Else the total portfolio is less than the emergency fund value, so display a message showing how many dollars away the member is from reaching the goal. (Subtract the total portfolio value from the emergency fund value.)\n"
   ]
  },
  {
   "cell_type": "markdown",
   "metadata": {},
   "source": [
    "#### Step 1: Create a Python list named `savings_data` that has two elements. The first element contains the total value of the cryptocurrency wallet. The second element contains the total value of the stock and bond portions of the portfolio."
   ]
  },
  {
   "cell_type": "code",
   "execution_count": 143,
   "metadata": {},
   "outputs": [
    {
     "data": {
      "text/plain": [
       "[96184.37999999999, 71835.2]"
      ]
     },
     "execution_count": 143,
     "metadata": {},
     "output_type": "execute_result"
    }
   ],
   "source": [
    "# Consolidate financial assets data into a Python list\n",
    "\n",
    "savings_data = [total_crypto_wallet, total_stocks_bonds]\n",
    "\n",
    "# Review the Python list savings_data\n",
    "\n",
    "savings_data\n",
    "    "
   ]
  },
  {
   "cell_type": "markdown",
   "metadata": {},
   "source": [
    "#### Step 2: Use the `savings_data` list to create a Pandas DataFrame named `savings_df`, and then display this DataFrame. The function to create the DataFrame should take the following three parameters:\n",
    "\n",
    "- `savings_data`: Use the list that you just created.\n",
    "\n",
    "- `columns`: Set this parameter equal to a Python list with a single value called `amount`.\n",
    "\n",
    "- `index`: Set this parameter equal to a Python list with the values of `crypto` and `stock/bond`.\n"
   ]
  },
  {
   "cell_type": "code",
   "execution_count": 144,
   "metadata": {
    "tags": []
   },
   "outputs": [
    {
     "data": {
      "text/html": [
       "<div>\n",
       "<style scoped>\n",
       "    .dataframe tbody tr th:only-of-type {\n",
       "        vertical-align: middle;\n",
       "    }\n",
       "\n",
       "    .dataframe tbody tr th {\n",
       "        vertical-align: top;\n",
       "    }\n",
       "\n",
       "    .dataframe thead th {\n",
       "        text-align: right;\n",
       "    }\n",
       "</style>\n",
       "<table border=\"1\" class=\"dataframe\">\n",
       "  <thead>\n",
       "    <tr style=\"text-align: right;\">\n",
       "      <th></th>\n",
       "      <th>amount</th>\n",
       "    </tr>\n",
       "  </thead>\n",
       "  <tbody>\n",
       "    <tr>\n",
       "      <th>total_crypto_wallet</th>\n",
       "      <td>96184.38</td>\n",
       "    </tr>\n",
       "    <tr>\n",
       "      <th>total_stocks_bonds</th>\n",
       "      <td>71835.20</td>\n",
       "    </tr>\n",
       "  </tbody>\n",
       "</table>\n",
       "</div>"
      ],
      "text/plain": [
       "                       amount\n",
       "total_crypto_wallet  96184.38\n",
       "total_stocks_bonds   71835.20"
      ]
     },
     "execution_count": 144,
     "metadata": {},
     "output_type": "execute_result"
    }
   ],
   "source": [
    "# Create a Pandas DataFrame called savings_df \n",
    "\n",
    "savings_df = pd.DataFrame(savings_data, columns = [\"amount\"], \n",
    "                          index = [\"total_crypto_wallet\", \"total_stocks_bonds\"])\n",
    "\n",
    "# Display the savings_df DataFrame\n",
    "\n",
    "savings_df\n"
   ]
  },
  {
   "cell_type": "markdown",
   "metadata": {},
   "source": [
    "#### Step 3: Use the `savings_df` DataFrame to plot a pie chart that visualizes the composition of the member’s portfolio. The y-axis of the pie chart uses `amount`. Be sure to add a title."
   ]
  },
  {
   "cell_type": "code",
   "execution_count": 145,
   "metadata": {},
   "outputs": [
    {
     "data": {
      "image/png": "[encoded data removed]",
      "text/plain": [
       "<Figure size 432x288 with 1 Axes>"
      ]
     },
     "metadata": {},
     "output_type": "display_data"
    }
   ],
   "source": [
    "# Plot the total value of the member's portfolio (crypto and stock/bond) in a pie chart\n",
    "\n",
    "import matplotlib.pyplot as plt\n",
    "labels = \"Cryptocurrency\", \"Stocks/Bonds\"\n",
    "sizes = [total_crypto_wallet, total_stocks_bonds]\n",
    "\n",
    "fig1, ax1 = plt.subplots()\n",
    "ax1.pie(sizes, labels=labels, autopct='%1.1f%%',\n",
    "        shadow=True, startangle=90)\n",
    "ax1.axis('equal')  \n",
    "\n",
    "plt.show()\n",
    "\n"
   ]
  },
  {
   "cell_type": "markdown",
   "metadata": {},
   "source": [
    "#### Step 4: Using Python, determine if the current portfolio has enough to create an emergency fund as part of the member’s financial plan. Ideally, an emergency fund should equal to three times the member’s monthly income. To do this, implement the following steps:\n",
    "\n",
    "Step 1. Create a variable named `emergency_fund_value`, and set it equal to three times the value of the member’s `monthly_income` of 12000. (You set this earlier in Part 1).\n",
    "\n",
    "Step 2. Create a series of three if statements to determine if the member’s total portfolio is large enough to fund the emergency portfolio:\n",
    "\n",
    "* If the total portfolio value is greater than the emergency fund value, display a message congratulating the member for having enough money in this fund.\n",
    "\n",
    "* Else if the total portfolio value is equal to the emergency fund value, display a message congratulating the member on reaching this important financial goal.\n",
    "\n",
    "* Else the total portfolio is less than the emergency fund value, so display a message showing how many dollars away the member is from reaching the goal. (Subtract the total portfolio value from the emergency fund value.)\n"
   ]
  },
  {
   "cell_type": "markdown",
   "metadata": {},
   "source": [
    "##### Step 4-1: Create a variable named `emergency_fund_value`, and set it equal to three times the value of the member’s `monthly_income` of 12000. (You set this earlier in Part 1)."
   ]
  },
  {
   "cell_type": "code",
   "execution_count": 146,
   "metadata": {},
   "outputs": [
    {
     "name": "stdout",
     "output_type": "stream",
     "text": [
      "36000\n"
     ]
    }
   ],
   "source": [
    "# Create a variable named emergency_fund_value\n",
    "\n",
    "emergency_fund_value = monthly_income * 3\n",
    "\n",
    "print(emergency_fund_value)\n"
   ]
  },
  {
   "cell_type": "markdown",
   "metadata": {},
   "source": [
    "##### Step 4-2: Create a series of three if statements to determine if the member’s total portfolio is large enough to fund the emergency portfolio:\n",
    "\n",
    "* If the total portfolio value is greater than the emergency fund value, display a message congratulating the member for having enough money in this fund.\n",
    "\n",
    "* Else if the total portfolio value is equal to the emergency fund value, display a message congratulating the member on reaching this important financial goal.\n",
    "\n",
    "* Else the total portfolio is less than the emergency fund value, so display a message showing how many dollars away the member is from reaching the goal. (Subtract the total portfolio value from the emergency fund value.)"
   ]
  },
  {
   "cell_type": "code",
   "execution_count": 147,
   "metadata": {},
   "outputs": [
    {
     "name": "stdout",
     "output_type": "stream",
     "text": [
      "Congratulations on reaching your emergency fund goal!\n"
     ]
    }
   ],
   "source": [
    "# Evaluate the possibility of creating an emergency fund with 3 conditions:\n",
    "\n",
    "if emergency_fund_value > 36000:\n",
    "    print(\"Congratulations! You have enough money in this fund. You're not poor!\")\n",
    "\n",
    "if emergency_fund_value == 36000:\n",
    "    print(\"Congratulations on reaching your emergency fund goal!\")\n",
    "    \n",
    "if emergency_fund_value < 36000:\n",
    "    print(\"Make good choices... you are short of your goal by ${36000 - emergency_fund_value}\")\n"
   ]
  },
  {
   "cell_type": "markdown",
   "metadata": {},
   "source": [
    "## Part 2: Create a Financial Planner for Retirement"
   ]
  },
  {
   "cell_type": "markdown",
   "metadata": {},
   "source": [
    "### Create the Monte Carlo Simulation\n",
    "\n",
    "In this section, you’ll use the MCForecastTools library to create a Monte Carlo simulation for the member’s savings portfolio. To do this, complete the following steps:\n",
    "\n",
    "1. Make an API call via the Alpaca SDK to get 3 years of historical closing prices for a traditional 60/40 portfolio split: 60% stocks (SPY) and 40% bonds (AGG).\n",
    "\n",
    "2. Run a Monte Carlo simulation of 500 samples and 30 years for the 60/40 portfolio, and then plot the results.The following image shows the overlay line plot resulting from a simulation with these characteristics. However, because a random number generator is used to run each live Monte Carlo simulation, your image will differ slightly from this exact image:\n",
    "\n",
    "![A screenshot depicts the resulting plot.](Images/5-4-monte-carlo-line-plot.png)\n",
    "\n",
    "3. Plot the probability distribution of the Monte Carlo simulation. Plot the probability distribution of the Monte Carlo simulation. The following image shows the histogram plot resulting from a simulation with these characteristics. However, because a random number generator is used to run each live Monte Carlo simulation, your image will differ slightly from this exact image:\n",
    "\n",
    "![A screenshot depicts the histogram plot.](Images/5-4-monte-carlo-histogram.png)\n",
    "\n",
    "4. Generate the summary statistics for the Monte Carlo simulation.\n",
    "\n"
   ]
  },
  {
   "cell_type": "markdown",
   "metadata": {},
   "source": [
    "#### Step 1: Make an API call via the Alpaca SDK to get 3 years of historical closing prices for a traditional 60/40 portfolio split: 60% stocks (SPY) and 40% bonds (AGG)."
   ]
  },
  {
   "cell_type": "code",
   "execution_count": 148,
   "metadata": {},
   "outputs": [],
   "source": [
    "# Set start and end dates of 3 years back from your current date\n",
    "# Alternatively, you can use an end date of 2020-08-07 and work 3 years back from that date \n",
    "\n",
    "start = pd.Timestamp(\"2018-10-22\", tz=\"America/New_York\").isoformat()\n",
    "end = pd.Timestamp(\"2021-10-22\", tz=\"America/New_York\").isoformat()\n",
    "\n",
    "# Set number of rows to 1000 to retrieve the maximum amount of rows\n",
    "\n",
    "limit_rows = 1000"
   ]
  },
  {
   "cell_type": "code",
   "execution_count": 149,
   "metadata": {},
   "outputs": [
    {
     "data": {
      "text/html": [
       "<div>\n",
       "<style scoped>\n",
       "    .dataframe tbody tr th:only-of-type {\n",
       "        vertical-align: middle;\n",
       "    }\n",
       "\n",
       "    .dataframe tbody tr th {\n",
       "        vertical-align: top;\n",
       "    }\n",
       "\n",
       "    .dataframe thead tr th {\n",
       "        text-align: left;\n",
       "    }\n",
       "\n",
       "    .dataframe thead tr:last-of-type th {\n",
       "        text-align: right;\n",
       "    }\n",
       "</style>\n",
       "<table border=\"1\" class=\"dataframe\">\n",
       "  <thead>\n",
       "    <tr>\n",
       "      <th></th>\n",
       "      <th colspan=\"5\" halign=\"left\">AGG</th>\n",
       "      <th colspan=\"5\" halign=\"left\">SPY</th>\n",
       "    </tr>\n",
       "    <tr>\n",
       "      <th></th>\n",
       "      <th>open</th>\n",
       "      <th>high</th>\n",
       "      <th>low</th>\n",
       "      <th>close</th>\n",
       "      <th>volume</th>\n",
       "      <th>open</th>\n",
       "      <th>high</th>\n",
       "      <th>low</th>\n",
       "      <th>close</th>\n",
       "      <th>volume</th>\n",
       "    </tr>\n",
       "    <tr>\n",
       "      <th>time</th>\n",
       "      <th></th>\n",
       "      <th></th>\n",
       "      <th></th>\n",
       "      <th></th>\n",
       "      <th></th>\n",
       "      <th></th>\n",
       "      <th></th>\n",
       "      <th></th>\n",
       "      <th></th>\n",
       "      <th></th>\n",
       "    </tr>\n",
       "  </thead>\n",
       "  <tbody>\n",
       "    <tr>\n",
       "      <th>2021-10-18 00:00:00-04:00</th>\n",
       "      <td>114.33</td>\n",
       "      <td>114.5600</td>\n",
       "      <td>114.2500</td>\n",
       "      <td>114.49</td>\n",
       "      <td>5145953.0</td>\n",
       "      <td>443.97</td>\n",
       "      <td>447.550</td>\n",
       "      <td>443.27</td>\n",
       "      <td>447.22</td>\n",
       "      <td>51994387</td>\n",
       "    </tr>\n",
       "    <tr>\n",
       "      <th>2021-10-19 00:00:00-04:00</th>\n",
       "      <td>114.37</td>\n",
       "      <td>114.3700</td>\n",
       "      <td>114.1600</td>\n",
       "      <td>114.18</td>\n",
       "      <td>3999066.0</td>\n",
       "      <td>448.92</td>\n",
       "      <td>450.700</td>\n",
       "      <td>448.27</td>\n",
       "      <td>450.68</td>\n",
       "      <td>40790864</td>\n",
       "    </tr>\n",
       "    <tr>\n",
       "      <th>2021-10-20 00:00:00-04:00</th>\n",
       "      <td>114.17</td>\n",
       "      <td>114.2900</td>\n",
       "      <td>114.0600</td>\n",
       "      <td>114.07</td>\n",
       "      <td>5881766.0</td>\n",
       "      <td>451.13</td>\n",
       "      <td>452.732</td>\n",
       "      <td>451.01</td>\n",
       "      <td>452.39</td>\n",
       "      <td>41594298</td>\n",
       "    </tr>\n",
       "    <tr>\n",
       "      <th>2021-10-21 00:00:00-04:00</th>\n",
       "      <td>114.01</td>\n",
       "      <td>114.0400</td>\n",
       "      <td>113.8423</td>\n",
       "      <td>113.85</td>\n",
       "      <td>4741154.0</td>\n",
       "      <td>451.76</td>\n",
       "      <td>453.829</td>\n",
       "      <td>451.31</td>\n",
       "      <td>453.61</td>\n",
       "      <td>33945007</td>\n",
       "    </tr>\n",
       "    <tr>\n",
       "      <th>2021-10-22 00:00:00-04:00</th>\n",
       "      <td>113.97</td>\n",
       "      <td>114.1399</td>\n",
       "      <td>113.8950</td>\n",
       "      <td>114.07</td>\n",
       "      <td>3309637.0</td>\n",
       "      <td>453.13</td>\n",
       "      <td>454.670</td>\n",
       "      <td>451.05</td>\n",
       "      <td>453.13</td>\n",
       "      <td>50771701</td>\n",
       "    </tr>\n",
       "  </tbody>\n",
       "</table>\n",
       "</div>"
      ],
      "text/plain": [
       "                              AGG                                         \\\n",
       "                             open      high       low   close     volume   \n",
       "time                                                                       \n",
       "2021-10-18 00:00:00-04:00  114.33  114.5600  114.2500  114.49  5145953.0   \n",
       "2021-10-19 00:00:00-04:00  114.37  114.3700  114.1600  114.18  3999066.0   \n",
       "2021-10-20 00:00:00-04:00  114.17  114.2900  114.0600  114.07  5881766.0   \n",
       "2021-10-21 00:00:00-04:00  114.01  114.0400  113.8423  113.85  4741154.0   \n",
       "2021-10-22 00:00:00-04:00  113.97  114.1399  113.8950  114.07  3309637.0   \n",
       "\n",
       "                              SPY                                     \n",
       "                             open     high     low   close    volume  \n",
       "time                                                                  \n",
       "2021-10-18 00:00:00-04:00  443.97  447.550  443.27  447.22  51994387  \n",
       "2021-10-19 00:00:00-04:00  448.92  450.700  448.27  450.68  40790864  \n",
       "2021-10-20 00:00:00-04:00  451.13  452.732  451.01  452.39  41594298  \n",
       "2021-10-21 00:00:00-04:00  451.76  453.829  451.31  453.61  33945007  \n",
       "2021-10-22 00:00:00-04:00  453.13  454.670  451.05  453.13  50771701  "
      ]
     },
     "execution_count": 149,
     "metadata": {},
     "output_type": "execute_result"
    }
   ],
   "source": [
    "# Use the Alpaca get_barset function to make the API call to get the 3 years worth of pricing data\n",
    "# The tickers and timeframe parameters should have been set in Part 1 of this activity \n",
    "# The start and end dates should be updated with the information set above\n",
    "# Remember to add the df property to the end of the call so the response is returned as a DataFrame\n",
    "\n",
    "portfolio_df = alpaca.get_barset(\n",
    "    tickers,\n",
    "    timeframe,\n",
    "    start = start,\n",
    "    end = end,\n",
    "    limit = limit_rows\n",
    ").df\n",
    "\n",
    "\n",
    "# Display both the first and last five rows of the DataFrame\n",
    "\n",
    "portfolio_df.head(5)\n",
    "portfolio_df.tail(5)\n"
   ]
  },
  {
   "cell_type": "markdown",
   "metadata": {},
   "source": [
    "#### Step 2: Run a Monte Carlo simulation of 500 samples and 30 years for the 60/40 portfolio, and then plot the results."
   ]
  },
  {
   "cell_type": "code",
   "execution_count": 159,
   "metadata": {},
   "outputs": [
    {
     "data": {
      "text/html": [
       "<div>\n",
       "<style scoped>\n",
       "    .dataframe tbody tr th:only-of-type {\n",
       "        vertical-align: middle;\n",
       "    }\n",
       "\n",
       "    .dataframe tbody tr th {\n",
       "        vertical-align: top;\n",
       "    }\n",
       "\n",
       "    .dataframe thead tr th {\n",
       "        text-align: left;\n",
       "    }\n",
       "\n",
       "    .dataframe thead tr:last-of-type th {\n",
       "        text-align: right;\n",
       "    }\n",
       "</style>\n",
       "<table border=\"1\" class=\"dataframe\">\n",
       "  <thead>\n",
       "    <tr>\n",
       "      <th></th>\n",
       "      <th colspan=\"6\" halign=\"left\">AGG</th>\n",
       "      <th colspan=\"6\" halign=\"left\">SPY</th>\n",
       "    </tr>\n",
       "    <tr>\n",
       "      <th></th>\n",
       "      <th>open</th>\n",
       "      <th>high</th>\n",
       "      <th>low</th>\n",
       "      <th>close</th>\n",
       "      <th>volume</th>\n",
       "      <th>daily_return</th>\n",
       "      <th>open</th>\n",
       "      <th>high</th>\n",
       "      <th>low</th>\n",
       "      <th>close</th>\n",
       "      <th>volume</th>\n",
       "      <th>daily_return</th>\n",
       "    </tr>\n",
       "    <tr>\n",
       "      <th>time</th>\n",
       "      <th></th>\n",
       "      <th></th>\n",
       "      <th></th>\n",
       "      <th></th>\n",
       "      <th></th>\n",
       "      <th></th>\n",
       "      <th></th>\n",
       "      <th></th>\n",
       "      <th></th>\n",
       "      <th></th>\n",
       "      <th></th>\n",
       "      <th></th>\n",
       "    </tr>\n",
       "  </thead>\n",
       "  <tbody>\n",
       "    <tr>\n",
       "      <th>2018-10-22 00:00:00-04:00</th>\n",
       "      <td>104.47</td>\n",
       "      <td>104.52</td>\n",
       "      <td>104.340</td>\n",
       "      <td>104.350</td>\n",
       "      <td>2634319.0</td>\n",
       "      <td>NaN</td>\n",
       "      <td>277.00</td>\n",
       "      <td>277.36</td>\n",
       "      <td>274.41</td>\n",
       "      <td>275.06</td>\n",
       "      <td>64990700</td>\n",
       "      <td>NaN</td>\n",
       "    </tr>\n",
       "    <tr>\n",
       "      <th>2018-10-23 00:00:00-04:00</th>\n",
       "      <td>104.67</td>\n",
       "      <td>104.74</td>\n",
       "      <td>104.475</td>\n",
       "      <td>104.485</td>\n",
       "      <td>3281760.0</td>\n",
       "      <td>0.001294</td>\n",
       "      <td>270.94</td>\n",
       "      <td>274.87</td>\n",
       "      <td>268.61</td>\n",
       "      <td>273.54</td>\n",
       "      <td>113790534</td>\n",
       "      <td>-0.005526</td>\n",
       "    </tr>\n",
       "    <tr>\n",
       "      <th>2018-10-24 00:00:00-04:00</th>\n",
       "      <td>104.69</td>\n",
       "      <td>104.81</td>\n",
       "      <td>104.670</td>\n",
       "      <td>104.760</td>\n",
       "      <td>4029453.0</td>\n",
       "      <td>0.002632</td>\n",
       "      <td>273.33</td>\n",
       "      <td>273.76</td>\n",
       "      <td>264.70</td>\n",
       "      <td>265.22</td>\n",
       "      <td>130172487</td>\n",
       "      <td>-0.030416</td>\n",
       "    </tr>\n",
       "    <tr>\n",
       "      <th>2018-10-25 00:00:00-04:00</th>\n",
       "      <td>104.71</td>\n",
       "      <td>104.77</td>\n",
       "      <td>104.610</td>\n",
       "      <td>104.665</td>\n",
       "      <td>3882207.0</td>\n",
       "      <td>-0.000907</td>\n",
       "      <td>267.37</td>\n",
       "      <td>271.81</td>\n",
       "      <td>266.23</td>\n",
       "      <td>270.14</td>\n",
       "      <td>97215770</td>\n",
       "      <td>0.018551</td>\n",
       "    </tr>\n",
       "    <tr>\n",
       "      <th>2018-10-26 00:00:00-04:00</th>\n",
       "      <td>104.88</td>\n",
       "      <td>105.05</td>\n",
       "      <td>104.870</td>\n",
       "      <td>104.915</td>\n",
       "      <td>4411985.0</td>\n",
       "      <td>0.002389</td>\n",
       "      <td>265.92</td>\n",
       "      <td>271.00</td>\n",
       "      <td>262.29</td>\n",
       "      <td>265.29</td>\n",
       "      <td>161147868</td>\n",
       "      <td>-0.017954</td>\n",
       "    </tr>\n",
       "  </tbody>\n",
       "</table>\n",
       "</div>"
      ],
      "text/plain": [
       "                              AGG                                       \\\n",
       "                             open    high      low    close     volume   \n",
       "time                                                                     \n",
       "2018-10-22 00:00:00-04:00  104.47  104.52  104.340  104.350  2634319.0   \n",
       "2018-10-23 00:00:00-04:00  104.67  104.74  104.475  104.485  3281760.0   \n",
       "2018-10-24 00:00:00-04:00  104.69  104.81  104.670  104.760  4029453.0   \n",
       "2018-10-25 00:00:00-04:00  104.71  104.77  104.610  104.665  3882207.0   \n",
       "2018-10-26 00:00:00-04:00  104.88  105.05  104.870  104.915  4411985.0   \n",
       "\n",
       "                                           SPY                          \\\n",
       "                          daily_return    open    high     low   close   \n",
       "time                                                                     \n",
       "2018-10-22 00:00:00-04:00          NaN  277.00  277.36  274.41  275.06   \n",
       "2018-10-23 00:00:00-04:00     0.001294  270.94  274.87  268.61  273.54   \n",
       "2018-10-24 00:00:00-04:00     0.002632  273.33  273.76  264.70  265.22   \n",
       "2018-10-25 00:00:00-04:00    -0.000907  267.37  271.81  266.23  270.14   \n",
       "2018-10-26 00:00:00-04:00     0.002389  265.92  271.00  262.29  265.29   \n",
       "\n",
       "                                                   \n",
       "                              volume daily_return  \n",
       "time                                               \n",
       "2018-10-22 00:00:00-04:00   64990700          NaN  \n",
       "2018-10-23 00:00:00-04:00  113790534    -0.005526  \n",
       "2018-10-24 00:00:00-04:00  130172487    -0.030416  \n",
       "2018-10-25 00:00:00-04:00   97215770     0.018551  \n",
       "2018-10-26 00:00:00-04:00  161147868    -0.017954  "
      ]
     },
     "execution_count": 159,
     "metadata": {},
     "output_type": "execute_result"
    }
   ],
   "source": [
    "# Configure the Monte Carlo simulation to forecast 30 years cumulative returns\n",
    "# The weights should be split 40% to AGG and 60% to SPY.\n",
    "# Run 500 samples.\n",
    "\n",
    "monte_carlo_30 = MCSimulation(\n",
    "  portfolio_data = portfolio_df, weights = [.40,.60],\n",
    "  num_simulation = 500, num_trading_days = 30 * 252\n",
    ")\n",
    "\n",
    "# Review the simulation input data\n",
    "\n",
    "monte_carlo_30.portfolio_data.head()\n"
   ]
  },
  {
   "cell_type": "code",
   "execution_count": 160,
   "metadata": {},
   "outputs": [
    {
     "name": "stdout",
     "output_type": "stream",
     "text": [
      "Running Monte Carlo simulation number 0.\n",
      "Running Monte Carlo simulation number 10.\n",
      "Running Monte Carlo simulation number 20.\n",
      "Running Monte Carlo simulation number 30.\n",
      "Running Monte Carlo simulation number 40.\n",
      "Running Monte Carlo simulation number 50.\n",
      "Running Monte Carlo simulation number 60.\n",
      "Running Monte Carlo simulation number 70.\n",
      "Running Monte Carlo simulation number 80.\n",
      "Running Monte Carlo simulation number 90.\n",
      "Running Monte Carlo simulation number 100.\n",
      "Running Monte Carlo simulation number 110.\n",
      "Running Monte Carlo simulation number 120.\n",
      "Running Monte Carlo simulation number 130.\n",
      "Running Monte Carlo simulation number 140.\n",
      "Running Monte Carlo simulation number 150.\n",
      "Running Monte Carlo simulation number 160.\n",
      "Running Monte Carlo simulation number 170.\n",
      "Running Monte Carlo simulation number 180.\n",
      "Running Monte Carlo simulation number 190.\n",
      "Running Monte Carlo simulation number 200.\n",
      "Running Monte Carlo simulation number 210.\n",
      "Running Monte Carlo simulation number 220.\n",
      "Running Monte Carlo simulation number 230.\n",
      "Running Monte Carlo simulation number 240.\n",
      "Running Monte Carlo simulation number 250.\n",
      "Running Monte Carlo simulation number 260.\n",
      "Running Monte Carlo simulation number 270.\n",
      "Running Monte Carlo simulation number 280.\n",
      "Running Monte Carlo simulation number 290.\n",
      "Running Monte Carlo simulation number 300.\n",
      "Running Monte Carlo simulation number 310.\n",
      "Running Monte Carlo simulation number 320.\n",
      "Running Monte Carlo simulation number 330.\n",
      "Running Monte Carlo simulation number 340.\n",
      "Running Monte Carlo simulation number 350.\n",
      "Running Monte Carlo simulation number 360.\n",
      "Running Monte Carlo simulation number 370.\n",
      "Running Monte Carlo simulation number 380.\n",
      "Running Monte Carlo simulation number 390.\n",
      "Running Monte Carlo simulation number 400.\n",
      "Running Monte Carlo simulation number 410.\n",
      "Running Monte Carlo simulation number 420.\n",
      "Running Monte Carlo simulation number 430.\n",
      "Running Monte Carlo simulation number 440.\n",
      "Running Monte Carlo simulation number 450.\n",
      "Running Monte Carlo simulation number 460.\n",
      "Running Monte Carlo simulation number 470.\n",
      "Running Monte Carlo simulation number 480.\n",
      "Running Monte Carlo simulation number 490.\n"
     ]
    },
    {
     "data": {
      "text/html": [
       "<div>\n",
       "<style scoped>\n",
       "    .dataframe tbody tr th:only-of-type {\n",
       "        vertical-align: middle;\n",
       "    }\n",
       "\n",
       "    .dataframe tbody tr th {\n",
       "        vertical-align: top;\n",
       "    }\n",
       "\n",
       "    .dataframe thead th {\n",
       "        text-align: right;\n",
       "    }\n",
       "</style>\n",
       "<table border=\"1\" class=\"dataframe\">\n",
       "  <thead>\n",
       "    <tr style=\"text-align: right;\">\n",
       "      <th></th>\n",
       "      <th>0</th>\n",
       "      <th>1</th>\n",
       "      <th>2</th>\n",
       "      <th>3</th>\n",
       "      <th>4</th>\n",
       "      <th>5</th>\n",
       "      <th>6</th>\n",
       "      <th>7</th>\n",
       "      <th>8</th>\n",
       "      <th>9</th>\n",
       "      <th>...</th>\n",
       "      <th>490</th>\n",
       "      <th>491</th>\n",
       "      <th>492</th>\n",
       "      <th>493</th>\n",
       "      <th>494</th>\n",
       "      <th>495</th>\n",
       "      <th>496</th>\n",
       "      <th>497</th>\n",
       "      <th>498</th>\n",
       "      <th>499</th>\n",
       "    </tr>\n",
       "  </thead>\n",
       "  <tbody>\n",
       "    <tr>\n",
       "      <th>0</th>\n",
       "      <td>1.000000</td>\n",
       "      <td>1.000000</td>\n",
       "      <td>1.000000</td>\n",
       "      <td>1.000000</td>\n",
       "      <td>1.000000</td>\n",
       "      <td>1.000000</td>\n",
       "      <td>1.000000</td>\n",
       "      <td>1.000000</td>\n",
       "      <td>1.000000</td>\n",
       "      <td>1.000000</td>\n",
       "      <td>...</td>\n",
       "      <td>1.000000</td>\n",
       "      <td>1.000000</td>\n",
       "      <td>1.000000</td>\n",
       "      <td>1.000000</td>\n",
       "      <td>1.000000</td>\n",
       "      <td>1.000000</td>\n",
       "      <td>1.000000</td>\n",
       "      <td>1.000000</td>\n",
       "      <td>1.000000</td>\n",
       "      <td>1.000000</td>\n",
       "    </tr>\n",
       "    <tr>\n",
       "      <th>1</th>\n",
       "      <td>1.003624</td>\n",
       "      <td>1.002461</td>\n",
       "      <td>0.998989</td>\n",
       "      <td>1.013740</td>\n",
       "      <td>0.987752</td>\n",
       "      <td>1.003849</td>\n",
       "      <td>1.000805</td>\n",
       "      <td>0.990572</td>\n",
       "      <td>0.990912</td>\n",
       "      <td>0.995070</td>\n",
       "      <td>...</td>\n",
       "      <td>1.002444</td>\n",
       "      <td>1.001348</td>\n",
       "      <td>1.010547</td>\n",
       "      <td>1.005111</td>\n",
       "      <td>1.001116</td>\n",
       "      <td>0.996211</td>\n",
       "      <td>1.006443</td>\n",
       "      <td>1.002597</td>\n",
       "      <td>1.003116</td>\n",
       "      <td>1.006299</td>\n",
       "    </tr>\n",
       "    <tr>\n",
       "      <th>2</th>\n",
       "      <td>1.016432</td>\n",
       "      <td>0.994374</td>\n",
       "      <td>1.004942</td>\n",
       "      <td>1.011204</td>\n",
       "      <td>0.982436</td>\n",
       "      <td>1.010777</td>\n",
       "      <td>1.000895</td>\n",
       "      <td>0.993320</td>\n",
       "      <td>0.998593</td>\n",
       "      <td>0.991147</td>\n",
       "      <td>...</td>\n",
       "      <td>0.996948</td>\n",
       "      <td>1.010464</td>\n",
       "      <td>1.014388</td>\n",
       "      <td>1.010550</td>\n",
       "      <td>1.003199</td>\n",
       "      <td>0.994885</td>\n",
       "      <td>1.019671</td>\n",
       "      <td>1.003466</td>\n",
       "      <td>1.000716</td>\n",
       "      <td>0.986686</td>\n",
       "    </tr>\n",
       "    <tr>\n",
       "      <th>3</th>\n",
       "      <td>1.022382</td>\n",
       "      <td>0.985562</td>\n",
       "      <td>0.993587</td>\n",
       "      <td>1.016943</td>\n",
       "      <td>0.968082</td>\n",
       "      <td>1.024474</td>\n",
       "      <td>1.005024</td>\n",
       "      <td>0.986983</td>\n",
       "      <td>1.002986</td>\n",
       "      <td>0.987272</td>\n",
       "      <td>...</td>\n",
       "      <td>1.017781</td>\n",
       "      <td>1.015125</td>\n",
       "      <td>1.015963</td>\n",
       "      <td>0.996921</td>\n",
       "      <td>0.997576</td>\n",
       "      <td>0.990392</td>\n",
       "      <td>1.031104</td>\n",
       "      <td>1.017017</td>\n",
       "      <td>0.998601</td>\n",
       "      <td>0.983152</td>\n",
       "    </tr>\n",
       "    <tr>\n",
       "      <th>4</th>\n",
       "      <td>1.004888</td>\n",
       "      <td>0.989958</td>\n",
       "      <td>0.989245</td>\n",
       "      <td>1.017674</td>\n",
       "      <td>0.973617</td>\n",
       "      <td>1.012363</td>\n",
       "      <td>0.996231</td>\n",
       "      <td>0.978793</td>\n",
       "      <td>1.009257</td>\n",
       "      <td>0.980172</td>\n",
       "      <td>...</td>\n",
       "      <td>1.029852</td>\n",
       "      <td>1.004152</td>\n",
       "      <td>1.006310</td>\n",
       "      <td>1.007947</td>\n",
       "      <td>1.002329</td>\n",
       "      <td>0.986840</td>\n",
       "      <td>1.036673</td>\n",
       "      <td>1.029160</td>\n",
       "      <td>0.994609</td>\n",
       "      <td>0.985546</td>\n",
       "    </tr>\n",
       "    <tr>\n",
       "      <th>...</th>\n",
       "      <td>...</td>\n",
       "      <td>...</td>\n",
       "      <td>...</td>\n",
       "      <td>...</td>\n",
       "      <td>...</td>\n",
       "      <td>...</td>\n",
       "      <td>...</td>\n",
       "      <td>...</td>\n",
       "      <td>...</td>\n",
       "      <td>...</td>\n",
       "      <td>...</td>\n",
       "      <td>...</td>\n",
       "      <td>...</td>\n",
       "      <td>...</td>\n",
       "      <td>...</td>\n",
       "      <td>...</td>\n",
       "      <td>...</td>\n",
       "      <td>...</td>\n",
       "      <td>...</td>\n",
       "      <td>...</td>\n",
       "      <td>...</td>\n",
       "    </tr>\n",
       "    <tr>\n",
       "      <th>7556</th>\n",
       "      <td>26.232694</td>\n",
       "      <td>23.725744</td>\n",
       "      <td>13.849068</td>\n",
       "      <td>117.970709</td>\n",
       "      <td>57.890787</td>\n",
       "      <td>18.887138</td>\n",
       "      <td>19.866106</td>\n",
       "      <td>19.162874</td>\n",
       "      <td>31.323664</td>\n",
       "      <td>15.408466</td>\n",
       "      <td>...</td>\n",
       "      <td>49.320932</td>\n",
       "      <td>27.978901</td>\n",
       "      <td>27.999161</td>\n",
       "      <td>66.719229</td>\n",
       "      <td>12.033952</td>\n",
       "      <td>33.812420</td>\n",
       "      <td>65.652216</td>\n",
       "      <td>16.436104</td>\n",
       "      <td>79.694763</td>\n",
       "      <td>143.429780</td>\n",
       "    </tr>\n",
       "    <tr>\n",
       "      <th>7557</th>\n",
       "      <td>26.284172</td>\n",
       "      <td>23.441969</td>\n",
       "      <td>13.816394</td>\n",
       "      <td>119.839122</td>\n",
       "      <td>58.314102</td>\n",
       "      <td>18.975610</td>\n",
       "      <td>20.034055</td>\n",
       "      <td>18.804228</td>\n",
       "      <td>31.514717</td>\n",
       "      <td>15.576253</td>\n",
       "      <td>...</td>\n",
       "      <td>49.600083</td>\n",
       "      <td>28.492699</td>\n",
       "      <td>27.977270</td>\n",
       "      <td>66.917023</td>\n",
       "      <td>11.985864</td>\n",
       "      <td>33.765359</td>\n",
       "      <td>65.008038</td>\n",
       "      <td>16.284896</td>\n",
       "      <td>80.070688</td>\n",
       "      <td>143.286854</td>\n",
       "    </tr>\n",
       "    <tr>\n",
       "      <th>7558</th>\n",
       "      <td>26.321898</td>\n",
       "      <td>23.486905</td>\n",
       "      <td>13.701440</td>\n",
       "      <td>119.826780</td>\n",
       "      <td>58.116525</td>\n",
       "      <td>18.846530</td>\n",
       "      <td>19.960198</td>\n",
       "      <td>18.640820</td>\n",
       "      <td>31.628627</td>\n",
       "      <td>15.484333</td>\n",
       "      <td>...</td>\n",
       "      <td>49.582737</td>\n",
       "      <td>28.560844</td>\n",
       "      <td>28.514152</td>\n",
       "      <td>67.409778</td>\n",
       "      <td>11.993351</td>\n",
       "      <td>33.361559</td>\n",
       "      <td>64.914345</td>\n",
       "      <td>16.373363</td>\n",
       "      <td>79.547792</td>\n",
       "      <td>142.302696</td>\n",
       "    </tr>\n",
       "    <tr>\n",
       "      <th>7559</th>\n",
       "      <td>26.403621</td>\n",
       "      <td>23.102139</td>\n",
       "      <td>13.782749</td>\n",
       "      <td>119.478988</td>\n",
       "      <td>59.236122</td>\n",
       "      <td>18.812633</td>\n",
       "      <td>19.698391</td>\n",
       "      <td>18.978102</td>\n",
       "      <td>31.704251</td>\n",
       "      <td>15.373964</td>\n",
       "      <td>...</td>\n",
       "      <td>49.858690</td>\n",
       "      <td>28.797340</td>\n",
       "      <td>28.740621</td>\n",
       "      <td>68.338531</td>\n",
       "      <td>12.022264</td>\n",
       "      <td>33.198101</td>\n",
       "      <td>64.244968</td>\n",
       "      <td>16.455780</td>\n",
       "      <td>80.226951</td>\n",
       "      <td>142.274485</td>\n",
       "    </tr>\n",
       "    <tr>\n",
       "      <th>7560</th>\n",
       "      <td>26.330701</td>\n",
       "      <td>22.435628</td>\n",
       "      <td>13.871596</td>\n",
       "      <td>120.364330</td>\n",
       "      <td>58.896149</td>\n",
       "      <td>18.804046</td>\n",
       "      <td>19.647787</td>\n",
       "      <td>19.266114</td>\n",
       "      <td>31.657388</td>\n",
       "      <td>15.586689</td>\n",
       "      <td>...</td>\n",
       "      <td>50.028035</td>\n",
       "      <td>28.892112</td>\n",
       "      <td>28.923462</td>\n",
       "      <td>68.907040</td>\n",
       "      <td>11.908217</td>\n",
       "      <td>33.007029</td>\n",
       "      <td>64.782955</td>\n",
       "      <td>16.345500</td>\n",
       "      <td>80.299960</td>\n",
       "      <td>145.788606</td>\n",
       "    </tr>\n",
       "  </tbody>\n",
       "</table>\n",
       "<p>7561 rows × 500 columns</p>\n",
       "</div>"
      ],
      "text/plain": [
       "            0          1          2           3          4          5    \\\n",
       "0      1.000000   1.000000   1.000000    1.000000   1.000000   1.000000   \n",
       "1      1.003624   1.002461   0.998989    1.013740   0.987752   1.003849   \n",
       "2      1.016432   0.994374   1.004942    1.011204   0.982436   1.010777   \n",
       "3      1.022382   0.985562   0.993587    1.016943   0.968082   1.024474   \n",
       "4      1.004888   0.989958   0.989245    1.017674   0.973617   1.012363   \n",
       "...         ...        ...        ...         ...        ...        ...   \n",
       "7556  26.232694  23.725744  13.849068  117.970709  57.890787  18.887138   \n",
       "7557  26.284172  23.441969  13.816394  119.839122  58.314102  18.975610   \n",
       "7558  26.321898  23.486905  13.701440  119.826780  58.116525  18.846530   \n",
       "7559  26.403621  23.102139  13.782749  119.478988  59.236122  18.812633   \n",
       "7560  26.330701  22.435628  13.871596  120.364330  58.896149  18.804046   \n",
       "\n",
       "            6          7          8          9    ...        490        491  \\\n",
       "0      1.000000   1.000000   1.000000   1.000000  ...   1.000000   1.000000   \n",
       "1      1.000805   0.990572   0.990912   0.995070  ...   1.002444   1.001348   \n",
       "2      1.000895   0.993320   0.998593   0.991147  ...   0.996948   1.010464   \n",
       "3      1.005024   0.986983   1.002986   0.987272  ...   1.017781   1.015125   \n",
       "4      0.996231   0.978793   1.009257   0.980172  ...   1.029852   1.004152   \n",
       "...         ...        ...        ...        ...  ...        ...        ...   \n",
       "7556  19.866106  19.162874  31.323664  15.408466  ...  49.320932  27.978901   \n",
       "7557  20.034055  18.804228  31.514717  15.576253  ...  49.600083  28.492699   \n",
       "7558  19.960198  18.640820  31.628627  15.484333  ...  49.582737  28.560844   \n",
       "7559  19.698391  18.978102  31.704251  15.373964  ...  49.858690  28.797340   \n",
       "7560  19.647787  19.266114  31.657388  15.586689  ...  50.028035  28.892112   \n",
       "\n",
       "            492        493        494        495        496        497  \\\n",
       "0      1.000000   1.000000   1.000000   1.000000   1.000000   1.000000   \n",
       "1      1.010547   1.005111   1.001116   0.996211   1.006443   1.002597   \n",
       "2      1.014388   1.010550   1.003199   0.994885   1.019671   1.003466   \n",
       "3      1.015963   0.996921   0.997576   0.990392   1.031104   1.017017   \n",
       "4      1.006310   1.007947   1.002329   0.986840   1.036673   1.029160   \n",
       "...         ...        ...        ...        ...        ...        ...   \n",
       "7556  27.999161  66.719229  12.033952  33.812420  65.652216  16.436104   \n",
       "7557  27.977270  66.917023  11.985864  33.765359  65.008038  16.284896   \n",
       "7558  28.514152  67.409778  11.993351  33.361559  64.914345  16.373363   \n",
       "7559  28.740621  68.338531  12.022264  33.198101  64.244968  16.455780   \n",
       "7560  28.923462  68.907040  11.908217  33.007029  64.782955  16.345500   \n",
       "\n",
       "            498         499  \n",
       "0      1.000000    1.000000  \n",
       "1      1.003116    1.006299  \n",
       "2      1.000716    0.986686  \n",
       "3      0.998601    0.983152  \n",
       "4      0.994609    0.985546  \n",
       "...         ...         ...  \n",
       "7556  79.694763  143.429780  \n",
       "7557  80.070688  143.286854  \n",
       "7558  79.547792  142.302696  \n",
       "7559  80.226951  142.274485  \n",
       "7560  80.299960  145.788606  \n",
       "\n",
       "[7561 rows x 500 columns]"
      ]
     },
     "execution_count": 160,
     "metadata": {},
     "output_type": "execute_result"
    }
   ],
   "source": [
    "# Run the Monte Carlo simulation to forecast 30 years cumulative returns\n",
    "\n",
    "monte_carlo_30.calc_cumulative_return()\n"
   ]
  },
  {
   "cell_type": "code",
   "execution_count": 193,
   "metadata": {},
   "outputs": [
    {
     "data": {
      "image/png": "[encoded data removed]",
      "text/plain": [
       "<Figure size 432x288 with 1 Axes>"
      ]
     },
     "metadata": {
      "needs_background": "light"
     },
     "output_type": "display_data"
    }
   ],
   "source": [
    "# Visualize the 30-year Monte Carlo simulation by creating an\n",
    "# overlay line plot\n",
    "\n",
    "monte_carlo_30_plot = monte_carlo_30.plot_simulation()\n",
    "\n",
    "monte_carlo_30_plot.get_figure().savefig(\"monte_carlo_30_plot.png\", bbox_inches=\"tight)\n"
   ]
  },
  {
   "cell_type": "markdown",
   "metadata": {},
   "source": [
    "#### Step 3: Plot the probability distribution of the Monte Carlo simulation."
   ]
  },
  {
   "cell_type": "code",
   "execution_count": 176,
   "metadata": {},
   "outputs": [
    {
     "name": "stdout",
     "output_type": "stream",
     "text": [
      "<MCForecastTools.MCSimulation object at 0x0000010D73825C40>\n"
     ]
    }
   ],
   "source": [
    "type(monte_carlo_30)\n",
    "print(monte_carlo_30)"
   ]
  },
  {
   "cell_type": "code",
   "execution_count": 177,
   "metadata": {},
   "outputs": [
    {
     "data": {
      "image/png": "[encoded data removed]",
      "text/plain": [
       "<Figure size 432x288 with 1 Axes>"
      ]
     },
     "metadata": {
      "needs_background": "light"
     },
     "output_type": "display_data"
    }
   ],
   "source": [
    "# Visualize the probability distribution of the 30-year Monte Carlo simulation \n",
    "# by plotting a histogram\n",
    "\n",
    "monte_carlo_30_plot = monte_carlo_30.plot_distribution()\n",
    "\n",
    "monte_carlo_30_plot.get_figure().savefig(\"monte_carlo_30_plot.png\", bbox_inches = \"tight\")\n",
    "\n"
   ]
  },
  {
   "cell_type": "markdown",
   "metadata": {},
   "source": [
    "#### Step 4: Generate the summary statistics for the Monte Carlo simulation."
   ]
  },
  {
   "cell_type": "code",
   "execution_count": 166,
   "metadata": {},
   "outputs": [
    {
     "data": {
      "text/plain": [
       "count           500.000000\n",
       "mean             46.351168\n",
       "std              42.196232\n",
       "min               4.944673\n",
       "25%              21.627066\n",
       "50%              34.338586\n",
       "75%              58.014129\n",
       "max             416.649684\n",
       "95% CI Lower      7.656628\n",
       "95% CI Upper    145.885071\n",
       "Name: 7560, dtype: float64"
      ]
     },
     "execution_count": 166,
     "metadata": {},
     "output_type": "execute_result"
    }
   ],
   "source": [
    "# Generate summary statistics from the 30-year Monte Carlo simulation results\n",
    "# Save the results as a variable\n",
    "\n",
    "monte_carlo_30_summary_stats = monte_carlo_30.summarize_cumulative_return()\n",
    "\n",
    "\n",
    "# Review the 30-year Monte Carlo summary statistics\n",
    "\n",
    "monte_carlo_30_summary_stats"
   ]
  },
  {
   "cell_type": "markdown",
   "metadata": {},
   "source": [
    "### Analyze the Retirement Portfolio Forecasts\n",
    "\n",
    "Using the current value of only the stock and bond portion of the member's portfolio and the summary statistics that you generated from the Monte Carlo simulation, answer the following question in your Jupyter notebook:\n",
    "\n",
    "-  What are the lower and upper bounds for the expected value of the portfolio with a 95% confidence interval?\n"
   ]
  },
  {
   "cell_type": "code",
   "execution_count": 173,
   "metadata": {},
   "outputs": [
    {
     "name": "stdout",
     "output_type": "stream",
     "text": [
      "168019.58\n"
     ]
    }
   ],
   "source": [
    "# Print the current balance of the stock and bond portion of the members portfolio\n",
    "\n",
    "print(total_portfolio)\n"
   ]
  },
  {
   "cell_type": "code",
   "execution_count": 172,
   "metadata": {},
   "outputs": [
    {
     "name": "stdout",
     "output_type": "stream",
     "text": [
      "In 30 years, there is a 95% chance that the $10,000 initial investment will be worth between $ 76566.28 and $ 1458850.71.\n"
     ]
    }
   ],
   "source": [
    "# Use the lower and upper `95%` confidence intervals to calculate the range of the possible outcomes for the current stock/bond portfolio\n",
    "\n",
    "ci_lower_thirty_cumulative_return = monte_carlo_30_summary_stats[8] * 10000\n",
    "\n",
    "ci_upper_thirty_cumulative_return = monte_carlo_30_summary_stats[9] * 10000\n",
    "\n",
    "# Print the result of your calculations\n",
    "\n",
    "print(f\"In 30 years, there is a 95% chance that the $10,000 initial investment will be worth between\"\n",
    "  f\" ${ci_lower_thirty_cumulative_return: .2f} and ${ci_upper_thirty_cumulative_return: .2f}.\")\n"
   ]
  },
  {
   "cell_type": "markdown",
   "metadata": {},
   "source": [
    "### Forecast Cumulative Returns in 10 Years\n",
    "\n",
    "The CTO of the credit union is impressed with your work on these planning tools but wonders if 30 years is a long time to wait until retirement. So, your next task is to adjust the retirement portfolio and run a new Monte Carlo simulation to find out if the changes will allow members to retire earlier.\n",
    "\n",
    "For this new Monte Carlo simulation, do the following: \n",
    "\n",
    "- Forecast the cumulative returns for 10 years from now. Because of the shortened investment horizon (30 years to 10 years), the portfolio needs to invest more heavily in the riskier asset&mdash;that is, stock&mdash;to help accumulate wealth for retirement. \n",
    "\n",
    "- Adjust the weights of the retirement portfolio so that the composition for the Monte Carlo simulation consists of 20% bonds and 80% stocks. \n",
    "\n",
    "- Run the simulation over 500 samples, and use the same data that the API call to Alpaca generated.\n",
    "\n",
    "- Based on the new Monte Carlo simulation, answer the following questions in your Jupyter notebook:\n",
    "\n",
    "    - Using the current value of only the stock and bond portion of the member's portfolio and the summary statistics that you generated from the new Monte Carlo simulation, what are the lower and upper bounds for the expected value of the portfolio (with the new weights) with a 95% confidence interval?\n",
    "\n",
    "    - Will weighting the portfolio more heavily toward stocks allow the credit union members to retire after only 10 years?\n"
   ]
  },
  {
   "cell_type": "code",
   "execution_count": 186,
   "metadata": {},
   "outputs": [
    {
     "data": {
      "text/html": [
       "<div>\n",
       "<style scoped>\n",
       "    .dataframe tbody tr th:only-of-type {\n",
       "        vertical-align: middle;\n",
       "    }\n",
       "\n",
       "    .dataframe tbody tr th {\n",
       "        vertical-align: top;\n",
       "    }\n",
       "\n",
       "    .dataframe thead tr th {\n",
       "        text-align: left;\n",
       "    }\n",
       "\n",
       "    .dataframe thead tr:last-of-type th {\n",
       "        text-align: right;\n",
       "    }\n",
       "</style>\n",
       "<table border=\"1\" class=\"dataframe\">\n",
       "  <thead>\n",
       "    <tr>\n",
       "      <th></th>\n",
       "      <th colspan=\"6\" halign=\"left\">AGG</th>\n",
       "      <th colspan=\"6\" halign=\"left\">SPY</th>\n",
       "    </tr>\n",
       "    <tr>\n",
       "      <th></th>\n",
       "      <th>open</th>\n",
       "      <th>high</th>\n",
       "      <th>low</th>\n",
       "      <th>close</th>\n",
       "      <th>volume</th>\n",
       "      <th>daily_return</th>\n",
       "      <th>open</th>\n",
       "      <th>high</th>\n",
       "      <th>low</th>\n",
       "      <th>close</th>\n",
       "      <th>volume</th>\n",
       "      <th>daily_return</th>\n",
       "    </tr>\n",
       "    <tr>\n",
       "      <th>time</th>\n",
       "      <th></th>\n",
       "      <th></th>\n",
       "      <th></th>\n",
       "      <th></th>\n",
       "      <th></th>\n",
       "      <th></th>\n",
       "      <th></th>\n",
       "      <th></th>\n",
       "      <th></th>\n",
       "      <th></th>\n",
       "      <th></th>\n",
       "      <th></th>\n",
       "    </tr>\n",
       "  </thead>\n",
       "  <tbody>\n",
       "    <tr>\n",
       "      <th>2018-10-22 00:00:00-04:00</th>\n",
       "      <td>104.47</td>\n",
       "      <td>104.52</td>\n",
       "      <td>104.340</td>\n",
       "      <td>104.350</td>\n",
       "      <td>2634319.0</td>\n",
       "      <td>NaN</td>\n",
       "      <td>277.00</td>\n",
       "      <td>277.36</td>\n",
       "      <td>274.41</td>\n",
       "      <td>275.06</td>\n",
       "      <td>64990700</td>\n",
       "      <td>NaN</td>\n",
       "    </tr>\n",
       "    <tr>\n",
       "      <th>2018-10-23 00:00:00-04:00</th>\n",
       "      <td>104.67</td>\n",
       "      <td>104.74</td>\n",
       "      <td>104.475</td>\n",
       "      <td>104.485</td>\n",
       "      <td>3281760.0</td>\n",
       "      <td>0.001294</td>\n",
       "      <td>270.94</td>\n",
       "      <td>274.87</td>\n",
       "      <td>268.61</td>\n",
       "      <td>273.54</td>\n",
       "      <td>113790534</td>\n",
       "      <td>-0.005526</td>\n",
       "    </tr>\n",
       "    <tr>\n",
       "      <th>2018-10-24 00:00:00-04:00</th>\n",
       "      <td>104.69</td>\n",
       "      <td>104.81</td>\n",
       "      <td>104.670</td>\n",
       "      <td>104.760</td>\n",
       "      <td>4029453.0</td>\n",
       "      <td>0.002632</td>\n",
       "      <td>273.33</td>\n",
       "      <td>273.76</td>\n",
       "      <td>264.70</td>\n",
       "      <td>265.22</td>\n",
       "      <td>130172487</td>\n",
       "      <td>-0.030416</td>\n",
       "    </tr>\n",
       "    <tr>\n",
       "      <th>2018-10-25 00:00:00-04:00</th>\n",
       "      <td>104.71</td>\n",
       "      <td>104.77</td>\n",
       "      <td>104.610</td>\n",
       "      <td>104.665</td>\n",
       "      <td>3882207.0</td>\n",
       "      <td>-0.000907</td>\n",
       "      <td>267.37</td>\n",
       "      <td>271.81</td>\n",
       "      <td>266.23</td>\n",
       "      <td>270.14</td>\n",
       "      <td>97215770</td>\n",
       "      <td>0.018551</td>\n",
       "    </tr>\n",
       "    <tr>\n",
       "      <th>2018-10-26 00:00:00-04:00</th>\n",
       "      <td>104.88</td>\n",
       "      <td>105.05</td>\n",
       "      <td>104.870</td>\n",
       "      <td>104.915</td>\n",
       "      <td>4411985.0</td>\n",
       "      <td>0.002389</td>\n",
       "      <td>265.92</td>\n",
       "      <td>271.00</td>\n",
       "      <td>262.29</td>\n",
       "      <td>265.29</td>\n",
       "      <td>161147868</td>\n",
       "      <td>-0.017954</td>\n",
       "    </tr>\n",
       "  </tbody>\n",
       "</table>\n",
       "</div>"
      ],
      "text/plain": [
       "                              AGG                                       \\\n",
       "                             open    high      low    close     volume   \n",
       "time                                                                     \n",
       "2018-10-22 00:00:00-04:00  104.47  104.52  104.340  104.350  2634319.0   \n",
       "2018-10-23 00:00:00-04:00  104.67  104.74  104.475  104.485  3281760.0   \n",
       "2018-10-24 00:00:00-04:00  104.69  104.81  104.670  104.760  4029453.0   \n",
       "2018-10-25 00:00:00-04:00  104.71  104.77  104.610  104.665  3882207.0   \n",
       "2018-10-26 00:00:00-04:00  104.88  105.05  104.870  104.915  4411985.0   \n",
       "\n",
       "                                           SPY                          \\\n",
       "                          daily_return    open    high     low   close   \n",
       "time                                                                     \n",
       "2018-10-22 00:00:00-04:00          NaN  277.00  277.36  274.41  275.06   \n",
       "2018-10-23 00:00:00-04:00     0.001294  270.94  274.87  268.61  273.54   \n",
       "2018-10-24 00:00:00-04:00     0.002632  273.33  273.76  264.70  265.22   \n",
       "2018-10-25 00:00:00-04:00    -0.000907  267.37  271.81  266.23  270.14   \n",
       "2018-10-26 00:00:00-04:00     0.002389  265.92  271.00  262.29  265.29   \n",
       "\n",
       "                                                   \n",
       "                              volume daily_return  \n",
       "time                                               \n",
       "2018-10-22 00:00:00-04:00   64990700          NaN  \n",
       "2018-10-23 00:00:00-04:00  113790534    -0.005526  \n",
       "2018-10-24 00:00:00-04:00  130172487    -0.030416  \n",
       "2018-10-25 00:00:00-04:00   97215770     0.018551  \n",
       "2018-10-26 00:00:00-04:00  161147868    -0.017954  "
      ]
     },
     "execution_count": 186,
     "metadata": {},
     "output_type": "execute_result"
    }
   ],
   "source": [
    "# Configure a Monte Carlo simulation to forecast 10 years cumulative returns\n",
    "# The weights should be split 20% to AGG and 80% to SPY.\n",
    "# Run 500 samples.\n",
    "\n",
    "monte_carlo_10 = MCSimulation(\n",
    "  portfolio_data = portfolio_df, weights = [.20,.80],\n",
    "  num_simulation = 500, num_trading_days = 10 * 252\n",
    ")\n",
    "\n",
    "# Review the simulation input data\n",
    "\n",
    "monte_carlo_10.portfolio_data.head()\n"
   ]
  },
  {
   "cell_type": "code",
   "execution_count": 187,
   "metadata": {},
   "outputs": [
    {
     "name": "stdout",
     "output_type": "stream",
     "text": [
      "Running Monte Carlo simulation number 0.\n",
      "Running Monte Carlo simulation number 10.\n",
      "Running Monte Carlo simulation number 20.\n",
      "Running Monte Carlo simulation number 30.\n",
      "Running Monte Carlo simulation number 40.\n",
      "Running Monte Carlo simulation number 50.\n",
      "Running Monte Carlo simulation number 60.\n",
      "Running Monte Carlo simulation number 70.\n",
      "Running Monte Carlo simulation number 80.\n",
      "Running Monte Carlo simulation number 90.\n",
      "Running Monte Carlo simulation number 100.\n",
      "Running Monte Carlo simulation number 110.\n",
      "Running Monte Carlo simulation number 120.\n",
      "Running Monte Carlo simulation number 130.\n",
      "Running Monte Carlo simulation number 140.\n",
      "Running Monte Carlo simulation number 150.\n",
      "Running Monte Carlo simulation number 160.\n",
      "Running Monte Carlo simulation number 170.\n",
      "Running Monte Carlo simulation number 180.\n",
      "Running Monte Carlo simulation number 190.\n",
      "Running Monte Carlo simulation number 200.\n",
      "Running Monte Carlo simulation number 210.\n",
      "Running Monte Carlo simulation number 220.\n",
      "Running Monte Carlo simulation number 230.\n",
      "Running Monte Carlo simulation number 240.\n",
      "Running Monte Carlo simulation number 250.\n",
      "Running Monte Carlo simulation number 260.\n",
      "Running Monte Carlo simulation number 270.\n",
      "Running Monte Carlo simulation number 280.\n",
      "Running Monte Carlo simulation number 290.\n",
      "Running Monte Carlo simulation number 300.\n",
      "Running Monte Carlo simulation number 310.\n",
      "Running Monte Carlo simulation number 320.\n",
      "Running Monte Carlo simulation number 330.\n",
      "Running Monte Carlo simulation number 340.\n",
      "Running Monte Carlo simulation number 350.\n",
      "Running Monte Carlo simulation number 360.\n",
      "Running Monte Carlo simulation number 370.\n",
      "Running Monte Carlo simulation number 380.\n",
      "Running Monte Carlo simulation number 390.\n",
      "Running Monte Carlo simulation number 400.\n",
      "Running Monte Carlo simulation number 410.\n",
      "Running Monte Carlo simulation number 420.\n",
      "Running Monte Carlo simulation number 430.\n",
      "Running Monte Carlo simulation number 440.\n",
      "Running Monte Carlo simulation number 450.\n",
      "Running Monte Carlo simulation number 460.\n",
      "Running Monte Carlo simulation number 470.\n",
      "Running Monte Carlo simulation number 480.\n",
      "Running Monte Carlo simulation number 490.\n"
     ]
    },
    {
     "data": {
      "text/html": [
       "<div>\n",
       "<style scoped>\n",
       "    .dataframe tbody tr th:only-of-type {\n",
       "        vertical-align: middle;\n",
       "    }\n",
       "\n",
       "    .dataframe tbody tr th {\n",
       "        vertical-align: top;\n",
       "    }\n",
       "\n",
       "    .dataframe thead th {\n",
       "        text-align: right;\n",
       "    }\n",
       "</style>\n",
       "<table border=\"1\" class=\"dataframe\">\n",
       "  <thead>\n",
       "    <tr style=\"text-align: right;\">\n",
       "      <th></th>\n",
       "      <th>0</th>\n",
       "      <th>1</th>\n",
       "      <th>2</th>\n",
       "      <th>3</th>\n",
       "      <th>4</th>\n",
       "      <th>5</th>\n",
       "      <th>6</th>\n",
       "      <th>7</th>\n",
       "      <th>8</th>\n",
       "      <th>9</th>\n",
       "      <th>...</th>\n",
       "      <th>490</th>\n",
       "      <th>491</th>\n",
       "      <th>492</th>\n",
       "      <th>493</th>\n",
       "      <th>494</th>\n",
       "      <th>495</th>\n",
       "      <th>496</th>\n",
       "      <th>497</th>\n",
       "      <th>498</th>\n",
       "      <th>499</th>\n",
       "    </tr>\n",
       "  </thead>\n",
       "  <tbody>\n",
       "    <tr>\n",
       "      <th>0</th>\n",
       "      <td>1.000000</td>\n",
       "      <td>1.000000</td>\n",
       "      <td>1.000000</td>\n",
       "      <td>1.000000</td>\n",
       "      <td>1.000000</td>\n",
       "      <td>1.000000</td>\n",
       "      <td>1.000000</td>\n",
       "      <td>1.000000</td>\n",
       "      <td>1.000000</td>\n",
       "      <td>1.000000</td>\n",
       "      <td>...</td>\n",
       "      <td>1.000000</td>\n",
       "      <td>1.000000</td>\n",
       "      <td>1.000000</td>\n",
       "      <td>1.000000</td>\n",
       "      <td>1.000000</td>\n",
       "      <td>1.000000</td>\n",
       "      <td>1.000000</td>\n",
       "      <td>1.000000</td>\n",
       "      <td>1.000000</td>\n",
       "      <td>1.000000</td>\n",
       "    </tr>\n",
       "    <tr>\n",
       "      <th>1</th>\n",
       "      <td>0.990713</td>\n",
       "      <td>0.994820</td>\n",
       "      <td>0.993169</td>\n",
       "      <td>0.992748</td>\n",
       "      <td>1.005661</td>\n",
       "      <td>0.987838</td>\n",
       "      <td>1.006119</td>\n",
       "      <td>0.996788</td>\n",
       "      <td>1.009912</td>\n",
       "      <td>1.018330</td>\n",
       "      <td>...</td>\n",
       "      <td>0.994246</td>\n",
       "      <td>1.007566</td>\n",
       "      <td>0.996215</td>\n",
       "      <td>0.988950</td>\n",
       "      <td>0.994292</td>\n",
       "      <td>1.011246</td>\n",
       "      <td>1.014784</td>\n",
       "      <td>1.003302</td>\n",
       "      <td>0.977856</td>\n",
       "      <td>1.008019</td>\n",
       "    </tr>\n",
       "    <tr>\n",
       "      <th>2</th>\n",
       "      <td>1.006396</td>\n",
       "      <td>1.000159</td>\n",
       "      <td>0.998173</td>\n",
       "      <td>1.002176</td>\n",
       "      <td>0.984531</td>\n",
       "      <td>0.994295</td>\n",
       "      <td>1.040780</td>\n",
       "      <td>0.991988</td>\n",
       "      <td>1.020098</td>\n",
       "      <td>1.012506</td>\n",
       "      <td>...</td>\n",
       "      <td>1.006952</td>\n",
       "      <td>1.015141</td>\n",
       "      <td>0.985056</td>\n",
       "      <td>0.992567</td>\n",
       "      <td>0.994829</td>\n",
       "      <td>1.012554</td>\n",
       "      <td>1.005051</td>\n",
       "      <td>1.010993</td>\n",
       "      <td>0.988354</td>\n",
       "      <td>1.008371</td>\n",
       "    </tr>\n",
       "    <tr>\n",
       "      <th>3</th>\n",
       "      <td>1.015492</td>\n",
       "      <td>0.988854</td>\n",
       "      <td>1.003120</td>\n",
       "      <td>1.007187</td>\n",
       "      <td>0.995793</td>\n",
       "      <td>0.996989</td>\n",
       "      <td>1.040110</td>\n",
       "      <td>1.003534</td>\n",
       "      <td>1.032233</td>\n",
       "      <td>1.011235</td>\n",
       "      <td>...</td>\n",
       "      <td>0.993880</td>\n",
       "      <td>1.019247</td>\n",
       "      <td>0.968124</td>\n",
       "      <td>0.987437</td>\n",
       "      <td>0.964221</td>\n",
       "      <td>1.016502</td>\n",
       "      <td>1.021294</td>\n",
       "      <td>1.013335</td>\n",
       "      <td>0.958043</td>\n",
       "      <td>0.982566</td>\n",
       "    </tr>\n",
       "    <tr>\n",
       "      <th>4</th>\n",
       "      <td>0.999172</td>\n",
       "      <td>0.995933</td>\n",
       "      <td>1.009449</td>\n",
       "      <td>0.990855</td>\n",
       "      <td>1.009665</td>\n",
       "      <td>0.990968</td>\n",
       "      <td>1.061026</td>\n",
       "      <td>0.982276</td>\n",
       "      <td>1.048752</td>\n",
       "      <td>1.003412</td>\n",
       "      <td>...</td>\n",
       "      <td>0.979192</td>\n",
       "      <td>1.013674</td>\n",
       "      <td>0.989568</td>\n",
       "      <td>0.989564</td>\n",
       "      <td>0.969589</td>\n",
       "      <td>1.034185</td>\n",
       "      <td>1.032253</td>\n",
       "      <td>1.057768</td>\n",
       "      <td>0.954716</td>\n",
       "      <td>0.993274</td>\n",
       "    </tr>\n",
       "    <tr>\n",
       "      <th>...</th>\n",
       "      <td>...</td>\n",
       "      <td>...</td>\n",
       "      <td>...</td>\n",
       "      <td>...</td>\n",
       "      <td>...</td>\n",
       "      <td>...</td>\n",
       "      <td>...</td>\n",
       "      <td>...</td>\n",
       "      <td>...</td>\n",
       "      <td>...</td>\n",
       "      <td>...</td>\n",
       "      <td>...</td>\n",
       "      <td>...</td>\n",
       "      <td>...</td>\n",
       "      <td>...</td>\n",
       "      <td>...</td>\n",
       "      <td>...</td>\n",
       "      <td>...</td>\n",
       "      <td>...</td>\n",
       "      <td>...</td>\n",
       "      <td>...</td>\n",
       "    </tr>\n",
       "    <tr>\n",
       "      <th>2516</th>\n",
       "      <td>5.438400</td>\n",
       "      <td>2.702929</td>\n",
       "      <td>2.415842</td>\n",
       "      <td>6.000419</td>\n",
       "      <td>11.327148</td>\n",
       "      <td>4.784508</td>\n",
       "      <td>6.493127</td>\n",
       "      <td>7.198303</td>\n",
       "      <td>4.270456</td>\n",
       "      <td>2.367531</td>\n",
       "      <td>...</td>\n",
       "      <td>2.449747</td>\n",
       "      <td>6.317014</td>\n",
       "      <td>5.953722</td>\n",
       "      <td>4.023898</td>\n",
       "      <td>2.500921</td>\n",
       "      <td>3.502065</td>\n",
       "      <td>4.922204</td>\n",
       "      <td>2.683499</td>\n",
       "      <td>3.375855</td>\n",
       "      <td>4.510926</td>\n",
       "    </tr>\n",
       "    <tr>\n",
       "      <th>2517</th>\n",
       "      <td>5.465037</td>\n",
       "      <td>2.724719</td>\n",
       "      <td>2.398155</td>\n",
       "      <td>6.016686</td>\n",
       "      <td>11.243951</td>\n",
       "      <td>4.789808</td>\n",
       "      <td>6.482407</td>\n",
       "      <td>7.158088</td>\n",
       "      <td>4.285703</td>\n",
       "      <td>2.405119</td>\n",
       "      <td>...</td>\n",
       "      <td>2.455550</td>\n",
       "      <td>6.328838</td>\n",
       "      <td>6.023354</td>\n",
       "      <td>4.004330</td>\n",
       "      <td>2.486169</td>\n",
       "      <td>3.579331</td>\n",
       "      <td>4.949327</td>\n",
       "      <td>2.693048</td>\n",
       "      <td>3.410323</td>\n",
       "      <td>4.543310</td>\n",
       "    </tr>\n",
       "    <tr>\n",
       "      <th>2518</th>\n",
       "      <td>5.496300</td>\n",
       "      <td>2.709799</td>\n",
       "      <td>2.407983</td>\n",
       "      <td>5.896874</td>\n",
       "      <td>11.426820</td>\n",
       "      <td>4.844756</td>\n",
       "      <td>6.555140</td>\n",
       "      <td>7.237356</td>\n",
       "      <td>4.257205</td>\n",
       "      <td>2.355722</td>\n",
       "      <td>...</td>\n",
       "      <td>2.412460</td>\n",
       "      <td>6.397479</td>\n",
       "      <td>6.066465</td>\n",
       "      <td>4.031158</td>\n",
       "      <td>2.511549</td>\n",
       "      <td>3.599116</td>\n",
       "      <td>4.907742</td>\n",
       "      <td>2.699785</td>\n",
       "      <td>3.472608</td>\n",
       "      <td>4.520741</td>\n",
       "    </tr>\n",
       "    <tr>\n",
       "      <th>2519</th>\n",
       "      <td>5.588616</td>\n",
       "      <td>2.716940</td>\n",
       "      <td>2.442182</td>\n",
       "      <td>5.913868</td>\n",
       "      <td>11.709554</td>\n",
       "      <td>4.839596</td>\n",
       "      <td>6.583064</td>\n",
       "      <td>7.199432</td>\n",
       "      <td>4.241449</td>\n",
       "      <td>2.359819</td>\n",
       "      <td>...</td>\n",
       "      <td>2.482514</td>\n",
       "      <td>6.386527</td>\n",
       "      <td>6.037666</td>\n",
       "      <td>4.018024</td>\n",
       "      <td>2.525109</td>\n",
       "      <td>3.598357</td>\n",
       "      <td>4.992349</td>\n",
       "      <td>2.703832</td>\n",
       "      <td>3.436072</td>\n",
       "      <td>4.569577</td>\n",
       "    </tr>\n",
       "    <tr>\n",
       "      <th>2520</th>\n",
       "      <td>5.598269</td>\n",
       "      <td>2.670635</td>\n",
       "      <td>2.430720</td>\n",
       "      <td>5.980134</td>\n",
       "      <td>11.503343</td>\n",
       "      <td>4.777203</td>\n",
       "      <td>6.660994</td>\n",
       "      <td>7.265636</td>\n",
       "      <td>4.323095</td>\n",
       "      <td>2.344832</td>\n",
       "      <td>...</td>\n",
       "      <td>2.465094</td>\n",
       "      <td>6.360524</td>\n",
       "      <td>6.061857</td>\n",
       "      <td>4.004349</td>\n",
       "      <td>2.544663</td>\n",
       "      <td>3.563651</td>\n",
       "      <td>4.955895</td>\n",
       "      <td>2.751440</td>\n",
       "      <td>3.430670</td>\n",
       "      <td>4.568168</td>\n",
       "    </tr>\n",
       "  </tbody>\n",
       "</table>\n",
       "<p>2521 rows × 500 columns</p>\n",
       "</div>"
      ],
      "text/plain": [
       "           0         1         2         3          4         5         6    \\\n",
       "0     1.000000  1.000000  1.000000  1.000000   1.000000  1.000000  1.000000   \n",
       "1     0.990713  0.994820  0.993169  0.992748   1.005661  0.987838  1.006119   \n",
       "2     1.006396  1.000159  0.998173  1.002176   0.984531  0.994295  1.040780   \n",
       "3     1.015492  0.988854  1.003120  1.007187   0.995793  0.996989  1.040110   \n",
       "4     0.999172  0.995933  1.009449  0.990855   1.009665  0.990968  1.061026   \n",
       "...        ...       ...       ...       ...        ...       ...       ...   \n",
       "2516  5.438400  2.702929  2.415842  6.000419  11.327148  4.784508  6.493127   \n",
       "2517  5.465037  2.724719  2.398155  6.016686  11.243951  4.789808  6.482407   \n",
       "2518  5.496300  2.709799  2.407983  5.896874  11.426820  4.844756  6.555140   \n",
       "2519  5.588616  2.716940  2.442182  5.913868  11.709554  4.839596  6.583064   \n",
       "2520  5.598269  2.670635  2.430720  5.980134  11.503343  4.777203  6.660994   \n",
       "\n",
       "           7         8         9    ...       490       491       492  \\\n",
       "0     1.000000  1.000000  1.000000  ...  1.000000  1.000000  1.000000   \n",
       "1     0.996788  1.009912  1.018330  ...  0.994246  1.007566  0.996215   \n",
       "2     0.991988  1.020098  1.012506  ...  1.006952  1.015141  0.985056   \n",
       "3     1.003534  1.032233  1.011235  ...  0.993880  1.019247  0.968124   \n",
       "4     0.982276  1.048752  1.003412  ...  0.979192  1.013674  0.989568   \n",
       "...        ...       ...       ...  ...       ...       ...       ...   \n",
       "2516  7.198303  4.270456  2.367531  ...  2.449747  6.317014  5.953722   \n",
       "2517  7.158088  4.285703  2.405119  ...  2.455550  6.328838  6.023354   \n",
       "2518  7.237356  4.257205  2.355722  ...  2.412460  6.397479  6.066465   \n",
       "2519  7.199432  4.241449  2.359819  ...  2.482514  6.386527  6.037666   \n",
       "2520  7.265636  4.323095  2.344832  ...  2.465094  6.360524  6.061857   \n",
       "\n",
       "           493       494       495       496       497       498       499  \n",
       "0     1.000000  1.000000  1.000000  1.000000  1.000000  1.000000  1.000000  \n",
       "1     0.988950  0.994292  1.011246  1.014784  1.003302  0.977856  1.008019  \n",
       "2     0.992567  0.994829  1.012554  1.005051  1.010993  0.988354  1.008371  \n",
       "3     0.987437  0.964221  1.016502  1.021294  1.013335  0.958043  0.982566  \n",
       "4     0.989564  0.969589  1.034185  1.032253  1.057768  0.954716  0.993274  \n",
       "...        ...       ...       ...       ...       ...       ...       ...  \n",
       "2516  4.023898  2.500921  3.502065  4.922204  2.683499  3.375855  4.510926  \n",
       "2517  4.004330  2.486169  3.579331  4.949327  2.693048  3.410323  4.543310  \n",
       "2518  4.031158  2.511549  3.599116  4.907742  2.699785  3.472608  4.520741  \n",
       "2519  4.018024  2.525109  3.598357  4.992349  2.703832  3.436072  4.569577  \n",
       "2520  4.004349  2.544663  3.563651  4.955895  2.751440  3.430670  4.568168  \n",
       "\n",
       "[2521 rows x 500 columns]"
      ]
     },
     "execution_count": 187,
     "metadata": {},
     "output_type": "execute_result"
    }
   ],
   "source": [
    "# Run the Monte Carlo simulation to forecast 10 years cumulative returns\n",
    "\n",
    "monte_carlo_10.calc_cumulative_return()\n"
   ]
  },
  {
   "cell_type": "code",
   "execution_count": 188,
   "metadata": {},
   "outputs": [
    {
     "data": {
      "image/png": "[encoded data removed]",
      "text/plain": [
       "<Figure size 432x288 with 1 Axes>"
      ]
     },
     "metadata": {
      "needs_background": "light"
     },
     "output_type": "display_data"
    }
   ],
   "source": [
    "# Visualize the 10-year Monte Carlo simulation by creating an\n",
    "# overlay line plot\n",
    "\n",
    "monte_carlo_10_plot = monte_carlo_10.plot_simulation()\n",
    "\n",
    "monte_carlo_10_plot.get_figure().savefig(\"monte_carlo_30_plot.png\", bbox_inches=\"tight\")\n"
   ]
  },
  {
   "cell_type": "code",
   "execution_count": 189,
   "metadata": {},
   "outputs": [
    {
     "data": {
      "image/png": "[encoded data removed]",
      "text/plain": [
       "<Figure size 432x288 with 1 Axes>"
      ]
     },
     "metadata": {
      "needs_background": "light"
     },
     "output_type": "display_data"
    }
   ],
   "source": [
    "# Visualize the probability distribution of the 10-year Monte Carlo simulation \n",
    "# by plotting a histogram\n",
    "\n",
    "monte_carlo_10_plot = monte_carlo_10.plot_distribution()\n",
    "\n",
    "monte_carlo_10_plot.get_figure().savefig(\"monte_carlo_10_plot.png\", bbox_inches = \"tight\")\n"
   ]
  },
  {
   "cell_type": "code",
   "execution_count": 190,
   "metadata": {},
   "outputs": [
    {
     "data": {
      "text/plain": [
       "count           500.000000\n",
       "mean              5.125080\n",
       "std               3.426784\n",
       "min               0.759032\n",
       "25%               2.720188\n",
       "50%               4.240898\n",
       "75%               6.563620\n",
       "max              27.285904\n",
       "95% CI Lower      1.229024\n",
       "95% CI Upper     14.310241\n",
       "Name: 2520, dtype: float64"
      ]
     },
     "execution_count": 190,
     "metadata": {},
     "output_type": "execute_result"
    }
   ],
   "source": [
    "# Generate summary statistics from the 10-year Monte Carlo simulation results\n",
    "# Save the results as a variable\n",
    "\n",
    "monte_carlo_10_summary_stats = monte_carlo_10.summarize_cumulative_return()\n",
    "\n",
    "\n",
    "# Review the 10-year Monte Carlo summary statistics\n",
    "\n",
    "monte_carlo_10_summary_stats"
   ]
  },
  {
   "cell_type": "markdown",
   "metadata": {},
   "source": [
    "### Answer the following questions:"
   ]
  },
  {
   "cell_type": "markdown",
   "metadata": {},
   "source": [
    "#### Question: Using the current value of only the stock and bond portion of the member's portfolio and the summary statistics that you generated from the new Monte Carlo simulation, what are the lower and upper bounds for the expected value of the portfolio (with the new weights) with a 95% confidence interval?"
   ]
  },
  {
   "cell_type": "code",
   "execution_count": 191,
   "metadata": {},
   "outputs": [
    {
     "name": "stdout",
     "output_type": "stream",
     "text": [
      "168019.58\n"
     ]
    }
   ],
   "source": [
    "# Print the current balance of the stock and bond portion of the members portfolio\n",
    "\n",
    "print(total_portfolio)\n"
   ]
  },
  {
   "cell_type": "code",
   "execution_count": 192,
   "metadata": {},
   "outputs": [
    {
     "name": "stdout",
     "output_type": "stream",
     "text": [
      "In 30 years, there is a 95% chance that the $10,000 initial investment will be worth between $ 12290.24 and $ 143102.41.\n"
     ]
    }
   ],
   "source": [
    "# Use the lower and upper `95%` confidence intervals to calculate the range of the possible outcomes for the current stock/bond portfolio\n",
    "\n",
    "ci_lower_ten_cumulative_return = monte_carlo_10_summary_stats[8] * 10000\n",
    "\n",
    "ci_upper_ten_cumulative_return = monte_carlo_10_summary_stats[9] * 10000\n",
    "\n",
    "# Print the result of your calculations\n",
    "\n",
    "print(f\"In 30 years, there is a 95% chance that the $10,000 initial investment will be worth between\"\n",
    "  f\" ${ci_lower_ten_cumulative_return: .2f} and ${ci_upper_ten_cumulative_return: .2f}.\")\n"
   ]
  },
  {
   "cell_type": "markdown",
   "metadata": {},
   "source": [
    "#### Question: Will weighting the portfolio more heavily to stocks allow the credit union members to retire after only 10 years?"
   ]
  },
  {
   "cell_type": "raw",
   "metadata": {},
   "source": [
    "**Answer** Weighing the stocks more heavily is unlikely to allow the members to retire after only 10 years."
   ]
  },
  {
   "cell_type": "code",
   "execution_count": null,
   "metadata": {},
   "outputs": [],
   "source": []
  }
 ],
 "metadata": {
  "kernelspec": {
   "display_name": "Python 3",
   "language": "python",
   "name": "python3"
  },
  "language_info": {
   "codemirror_mode": {
    "name": "ipython",
    "version": 3
   },
   "file_extension": ".py",
   "mimetype": "text/x-python",
   "name": "python",
   "nbconvert_exporter": "python",
   "pygments_lexer": "ipython3",
   "version": "3.8.8"
  }
 },
 "nbformat": 4,
 "nbformat_minor": 4
}
